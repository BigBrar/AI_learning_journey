{
 "cells": [
  {
   "cell_type": "code",
   "execution_count": 3,
   "id": "19d90a43-a845-421e-9afd-b37c3a2ebe38",
   "metadata": {},
   "outputs": [],
   "source": [
    "import pandas as pd \n",
    "import seaborn as sns"
   ]
  },
  {
   "cell_type": "markdown",
   "id": "6fee6389-7444-4241-8a20-ae51fd3b5b19",
   "metadata": {},
   "source": [
    "## Following are the questions you need to ask your data to know about it all..."
   ]
  },
  {
   "cell_type": "code",
   "execution_count": 4,
   "id": "c606f549-6ced-41b4-b77a-60873a656ba1",
   "metadata": {},
   "outputs": [],
   "source": [
    "df = pd.read_csv('AB_NYC_2019.csv')"
   ]
  },
  {
   "cell_type": "markdown",
   "id": "3bd6d633-40ab-4cbd-b5df-59b35168797a",
   "metadata": {
    "jp-MarkdownHeadingCollapsed": true
   },
   "source": [
    "## Dimension of data - "
   ]
  },
  {
   "cell_type": "code",
   "execution_count": 10,
   "id": "be81e26d-3dc0-45de-a8b6-1152bf76510a",
   "metadata": {},
   "outputs": [
    {
     "name": "stdout",
     "output_type": "stream",
     "text": [
      "Rows:48895 Columns:16\n"
     ]
    }
   ],
   "source": [
    "dimension = df.shape\n",
    "print(f'Rows:{dimension[0]} Columns:{dimension[1]}')"
   ]
  },
  {
   "cell_type": "markdown",
   "id": "4cd3e428-ce8e-4fd6-a039-107409b08a68",
   "metadata": {
    "jp-MarkdownHeadingCollapsed": true
   },
   "source": [
    "## How does the data look like?"
   ]
  },
  {
   "cell_type": "code",
   "execution_count": 14,
   "id": "803e91bb-8511-4eb8-bfae-89d42dcb3b4c",
   "metadata": {},
   "outputs": [
    {
     "data": {
      "text/html": [
       "<div>\n",
       "<style scoped>\n",
       "    .dataframe tbody tr th:only-of-type {\n",
       "        vertical-align: middle;\n",
       "    }\n",
       "\n",
       "    .dataframe tbody tr th {\n",
       "        vertical-align: top;\n",
       "    }\n",
       "\n",
       "    .dataframe thead th {\n",
       "        text-align: right;\n",
       "    }\n",
       "</style>\n",
       "<table border=\"1\" class=\"dataframe\">\n",
       "  <thead>\n",
       "    <tr style=\"text-align: right;\">\n",
       "      <th></th>\n",
       "      <th>id</th>\n",
       "      <th>name</th>\n",
       "      <th>host_id</th>\n",
       "      <th>host_name</th>\n",
       "      <th>neighbourhood_group</th>\n",
       "      <th>neighbourhood</th>\n",
       "      <th>latitude</th>\n",
       "      <th>longitude</th>\n",
       "      <th>room_type</th>\n",
       "      <th>price</th>\n",
       "      <th>minimum_nights</th>\n",
       "      <th>number_of_reviews</th>\n",
       "      <th>last_review</th>\n",
       "      <th>reviews_per_month</th>\n",
       "      <th>calculated_host_listings_count</th>\n",
       "      <th>availability_365</th>\n",
       "    </tr>\n",
       "  </thead>\n",
       "  <tbody>\n",
       "    <tr>\n",
       "      <th>32305</th>\n",
       "      <td>25278771</td>\n",
       "      <td>Homey Gowanus retreat for artists and dog lovers</td>\n",
       "      <td>184898953</td>\n",
       "      <td>Lindsey</td>\n",
       "      <td>Brooklyn</td>\n",
       "      <td>Gowanus</td>\n",
       "      <td>40.67602</td>\n",
       "      <td>-73.98535</td>\n",
       "      <td>Private room</td>\n",
       "      <td>100</td>\n",
       "      <td>3</td>\n",
       "      <td>8</td>\n",
       "      <td>2019-07-06</td>\n",
       "      <td>0.59</td>\n",
       "      <td>1</td>\n",
       "      <td>0</td>\n",
       "    </tr>\n",
       "    <tr>\n",
       "      <th>6519</th>\n",
       "      <td>4730379</td>\n",
       "      <td>Bedroom in Spacious East Village Apt</td>\n",
       "      <td>10503555</td>\n",
       "      <td>Amanda</td>\n",
       "      <td>Manhattan</td>\n",
       "      <td>East Village</td>\n",
       "      <td>40.72717</td>\n",
       "      <td>-73.99100</td>\n",
       "      <td>Private room</td>\n",
       "      <td>55</td>\n",
       "      <td>26</td>\n",
       "      <td>0</td>\n",
       "      <td>NaN</td>\n",
       "      <td>NaN</td>\n",
       "      <td>1</td>\n",
       "      <td>0</td>\n",
       "    </tr>\n",
       "    <tr>\n",
       "      <th>8716</th>\n",
       "      <td>6692574</td>\n",
       "      <td>Cozy 1br apt in center flushing</td>\n",
       "      <td>22727131</td>\n",
       "      <td>Iris</td>\n",
       "      <td>Queens</td>\n",
       "      <td>Flushing</td>\n",
       "      <td>40.75529</td>\n",
       "      <td>-73.83043</td>\n",
       "      <td>Entire home/apt</td>\n",
       "      <td>150</td>\n",
       "      <td>7</td>\n",
       "      <td>1</td>\n",
       "      <td>2015-11-01</td>\n",
       "      <td>0.02</td>\n",
       "      <td>1</td>\n",
       "      <td>0</td>\n",
       "    </tr>\n",
       "    <tr>\n",
       "      <th>18903</th>\n",
       "      <td>15016999</td>\n",
       "      <td>Crown Heights 1-Bedroom Near Parks and Museum</td>\n",
       "      <td>94782931</td>\n",
       "      <td>Joe</td>\n",
       "      <td>Brooklyn</td>\n",
       "      <td>Crown Heights</td>\n",
       "      <td>40.66692</td>\n",
       "      <td>-73.95205</td>\n",
       "      <td>Entire home/apt</td>\n",
       "      <td>105</td>\n",
       "      <td>1</td>\n",
       "      <td>7</td>\n",
       "      <td>2019-06-19</td>\n",
       "      <td>0.21</td>\n",
       "      <td>1</td>\n",
       "      <td>6</td>\n",
       "    </tr>\n",
       "    <tr>\n",
       "      <th>9019</th>\n",
       "      <td>6923000</td>\n",
       "      <td>Williamsburg Luxury Apartment</td>\n",
       "      <td>1164568</td>\n",
       "      <td>Emilie</td>\n",
       "      <td>Brooklyn</td>\n",
       "      <td>Williamsburg</td>\n",
       "      <td>40.71199</td>\n",
       "      <td>-73.96022</td>\n",
       "      <td>Entire home/apt</td>\n",
       "      <td>180</td>\n",
       "      <td>3</td>\n",
       "      <td>3</td>\n",
       "      <td>2016-08-25</td>\n",
       "      <td>0.06</td>\n",
       "      <td>1</td>\n",
       "      <td>0</td>\n",
       "    </tr>\n",
       "  </tbody>\n",
       "</table>\n",
       "</div>"
      ],
      "text/plain": [
       "             id                                              name    host_id  \\\n",
       "32305  25278771  Homey Gowanus retreat for artists and dog lovers  184898953   \n",
       "6519    4730379              Bedroom in Spacious East Village Apt   10503555   \n",
       "8716    6692574                   Cozy 1br apt in center flushing   22727131   \n",
       "18903  15016999     Crown Heights 1-Bedroom Near Parks and Museum   94782931   \n",
       "9019    6923000                     Williamsburg Luxury Apartment    1164568   \n",
       "\n",
       "      host_name neighbourhood_group  neighbourhood  latitude  longitude  \\\n",
       "32305   Lindsey            Brooklyn        Gowanus  40.67602  -73.98535   \n",
       "6519     Amanda           Manhattan   East Village  40.72717  -73.99100   \n",
       "8716       Iris              Queens       Flushing  40.75529  -73.83043   \n",
       "18903       Joe            Brooklyn  Crown Heights  40.66692  -73.95205   \n",
       "9019     Emilie            Brooklyn   Williamsburg  40.71199  -73.96022   \n",
       "\n",
       "             room_type  price  minimum_nights  number_of_reviews last_review  \\\n",
       "32305     Private room    100               3                  8  2019-07-06   \n",
       "6519      Private room     55              26                  0         NaN   \n",
       "8716   Entire home/apt    150               7                  1  2015-11-01   \n",
       "18903  Entire home/apt    105               1                  7  2019-06-19   \n",
       "9019   Entire home/apt    180               3                  3  2016-08-25   \n",
       "\n",
       "       reviews_per_month  calculated_host_listings_count  availability_365  \n",
       "32305               0.59                               1                 0  \n",
       "6519                 NaN                               1                 0  \n",
       "8716                0.02                               1                 0  \n",
       "18903               0.21                               1                 6  \n",
       "9019                0.06                               1                 0  "
      ]
     },
     "execution_count": 14,
     "metadata": {},
     "output_type": "execute_result"
    }
   ],
   "source": [
    "df.head() #first 5 rows by default \n",
    "df.tail() #last 5 rows by default\n",
    "df.sample() #get random 5 rows from the dataset"
   ]
  },
  {
   "cell_type": "markdown",
   "id": "0d6f4219-fead-4fa5-bd26-95b20d442f89",
   "metadata": {
    "jp-MarkdownHeadingCollapsed": true
   },
   "source": [
    "## What is the datatype of Cols?"
   ]
  },
  {
   "cell_type": "code",
   "execution_count": 15,
   "id": "311e80b1-5a92-4960-9bab-8863ca44dcda",
   "metadata": {},
   "outputs": [
    {
     "name": "stdout",
     "output_type": "stream",
     "text": [
      "<class 'pandas.core.frame.DataFrame'>\n",
      "RangeIndex: 48895 entries, 0 to 48894\n",
      "Data columns (total 16 columns):\n",
      " #   Column                          Non-Null Count  Dtype  \n",
      "---  ------                          --------------  -----  \n",
      " 0   id                              48895 non-null  int64  \n",
      " 1   name                            48879 non-null  object \n",
      " 2   host_id                         48895 non-null  int64  \n",
      " 3   host_name                       48874 non-null  object \n",
      " 4   neighbourhood_group             48895 non-null  object \n",
      " 5   neighbourhood                   48895 non-null  object \n",
      " 6   latitude                        48895 non-null  float64\n",
      " 7   longitude                       48895 non-null  float64\n",
      " 8   room_type                       48895 non-null  object \n",
      " 9   price                           48895 non-null  int64  \n",
      " 10  minimum_nights                  48895 non-null  int64  \n",
      " 11  number_of_reviews               48895 non-null  int64  \n",
      " 12  last_review                     38843 non-null  object \n",
      " 13  reviews_per_month               38843 non-null  float64\n",
      " 14  calculated_host_listings_count  48895 non-null  int64  \n",
      " 15  availability_365                48895 non-null  int64  \n",
      "dtypes: float64(3), int64(7), object(6)\n",
      "memory usage: 6.0+ MB\n"
     ]
    }
   ],
   "source": [
    "df.info() #shows he datatype and other properties for each column"
   ]
  },
  {
   "cell_type": "markdown",
   "id": "d533bde7-ec0d-406b-9ff3-2132593a5b38",
   "metadata": {
    "jp-MarkdownHeadingCollapsed": true
   },
   "source": [
    "## Are there any missing values?"
   ]
  },
  {
   "cell_type": "code",
   "execution_count": 17,
   "id": "f82f5d56-b6b7-4ae5-a01d-c242fb28c686",
   "metadata": {},
   "outputs": [
    {
     "data": {
      "text/plain": [
       "id                                    0\n",
       "name                                 16\n",
       "host_id                               0\n",
       "host_name                            21\n",
       "neighbourhood_group                   0\n",
       "neighbourhood                         0\n",
       "latitude                              0\n",
       "longitude                             0\n",
       "room_type                             0\n",
       "price                                 0\n",
       "minimum_nights                        0\n",
       "number_of_reviews                     0\n",
       "last_review                       10052\n",
       "reviews_per_month                 10052\n",
       "calculated_host_listings_count        0\n",
       "availability_365                      0\n",
       "dtype: int64"
      ]
     },
     "execution_count": 17,
     "metadata": {},
     "output_type": "execute_result"
    }
   ],
   "source": [
    "df.isna().sum()\n",
    "df.isnull().sum() #both have the same output (I THINK!!!/"
   ]
  },
  {
   "cell_type": "markdown",
   "id": "957bb524-5417-4b08-81bc-ebba130883d1",
   "metadata": {
    "jp-MarkdownHeadingCollapsed": true
   },
   "source": [
    "## How does the data look like mathematically?"
   ]
  },
  {
   "cell_type": "code",
   "execution_count": 18,
   "id": "419bca95-c8f2-4873-8d7d-83f152a656c2",
   "metadata": {},
   "outputs": [
    {
     "data": {
      "text/html": [
       "<div>\n",
       "<style scoped>\n",
       "    .dataframe tbody tr th:only-of-type {\n",
       "        vertical-align: middle;\n",
       "    }\n",
       "\n",
       "    .dataframe tbody tr th {\n",
       "        vertical-align: top;\n",
       "    }\n",
       "\n",
       "    .dataframe thead th {\n",
       "        text-align: right;\n",
       "    }\n",
       "</style>\n",
       "<table border=\"1\" class=\"dataframe\">\n",
       "  <thead>\n",
       "    <tr style=\"text-align: right;\">\n",
       "      <th></th>\n",
       "      <th>id</th>\n",
       "      <th>host_id</th>\n",
       "      <th>latitude</th>\n",
       "      <th>longitude</th>\n",
       "      <th>price</th>\n",
       "      <th>minimum_nights</th>\n",
       "      <th>number_of_reviews</th>\n",
       "      <th>reviews_per_month</th>\n",
       "      <th>calculated_host_listings_count</th>\n",
       "      <th>availability_365</th>\n",
       "    </tr>\n",
       "  </thead>\n",
       "  <tbody>\n",
       "    <tr>\n",
       "      <th>count</th>\n",
       "      <td>4.889500e+04</td>\n",
       "      <td>4.889500e+04</td>\n",
       "      <td>48895.000000</td>\n",
       "      <td>48895.000000</td>\n",
       "      <td>48895.000000</td>\n",
       "      <td>48895.000000</td>\n",
       "      <td>48895.000000</td>\n",
       "      <td>38843.000000</td>\n",
       "      <td>48895.000000</td>\n",
       "      <td>48895.000000</td>\n",
       "    </tr>\n",
       "    <tr>\n",
       "      <th>mean</th>\n",
       "      <td>1.901714e+07</td>\n",
       "      <td>6.762001e+07</td>\n",
       "      <td>40.728949</td>\n",
       "      <td>-73.952170</td>\n",
       "      <td>152.720687</td>\n",
       "      <td>7.029962</td>\n",
       "      <td>23.274466</td>\n",
       "      <td>1.373221</td>\n",
       "      <td>7.143982</td>\n",
       "      <td>112.781327</td>\n",
       "    </tr>\n",
       "    <tr>\n",
       "      <th>std</th>\n",
       "      <td>1.098311e+07</td>\n",
       "      <td>7.861097e+07</td>\n",
       "      <td>0.054530</td>\n",
       "      <td>0.046157</td>\n",
       "      <td>240.154170</td>\n",
       "      <td>20.510550</td>\n",
       "      <td>44.550582</td>\n",
       "      <td>1.680442</td>\n",
       "      <td>32.952519</td>\n",
       "      <td>131.622289</td>\n",
       "    </tr>\n",
       "    <tr>\n",
       "      <th>min</th>\n",
       "      <td>2.539000e+03</td>\n",
       "      <td>2.438000e+03</td>\n",
       "      <td>40.499790</td>\n",
       "      <td>-74.244420</td>\n",
       "      <td>0.000000</td>\n",
       "      <td>1.000000</td>\n",
       "      <td>0.000000</td>\n",
       "      <td>0.010000</td>\n",
       "      <td>1.000000</td>\n",
       "      <td>0.000000</td>\n",
       "    </tr>\n",
       "    <tr>\n",
       "      <th>25%</th>\n",
       "      <td>9.471945e+06</td>\n",
       "      <td>7.822033e+06</td>\n",
       "      <td>40.690100</td>\n",
       "      <td>-73.983070</td>\n",
       "      <td>69.000000</td>\n",
       "      <td>1.000000</td>\n",
       "      <td>1.000000</td>\n",
       "      <td>0.190000</td>\n",
       "      <td>1.000000</td>\n",
       "      <td>0.000000</td>\n",
       "    </tr>\n",
       "    <tr>\n",
       "      <th>50%</th>\n",
       "      <td>1.967728e+07</td>\n",
       "      <td>3.079382e+07</td>\n",
       "      <td>40.723070</td>\n",
       "      <td>-73.955680</td>\n",
       "      <td>106.000000</td>\n",
       "      <td>3.000000</td>\n",
       "      <td>5.000000</td>\n",
       "      <td>0.720000</td>\n",
       "      <td>1.000000</td>\n",
       "      <td>45.000000</td>\n",
       "    </tr>\n",
       "    <tr>\n",
       "      <th>75%</th>\n",
       "      <td>2.915218e+07</td>\n",
       "      <td>1.074344e+08</td>\n",
       "      <td>40.763115</td>\n",
       "      <td>-73.936275</td>\n",
       "      <td>175.000000</td>\n",
       "      <td>5.000000</td>\n",
       "      <td>24.000000</td>\n",
       "      <td>2.020000</td>\n",
       "      <td>2.000000</td>\n",
       "      <td>227.000000</td>\n",
       "    </tr>\n",
       "    <tr>\n",
       "      <th>max</th>\n",
       "      <td>3.648724e+07</td>\n",
       "      <td>2.743213e+08</td>\n",
       "      <td>40.913060</td>\n",
       "      <td>-73.712990</td>\n",
       "      <td>10000.000000</td>\n",
       "      <td>1250.000000</td>\n",
       "      <td>629.000000</td>\n",
       "      <td>58.500000</td>\n",
       "      <td>327.000000</td>\n",
       "      <td>365.000000</td>\n",
       "    </tr>\n",
       "  </tbody>\n",
       "</table>\n",
       "</div>"
      ],
      "text/plain": [
       "                 id       host_id      latitude     longitude         price  \\\n",
       "count  4.889500e+04  4.889500e+04  48895.000000  48895.000000  48895.000000   \n",
       "mean   1.901714e+07  6.762001e+07     40.728949    -73.952170    152.720687   \n",
       "std    1.098311e+07  7.861097e+07      0.054530      0.046157    240.154170   \n",
       "min    2.539000e+03  2.438000e+03     40.499790    -74.244420      0.000000   \n",
       "25%    9.471945e+06  7.822033e+06     40.690100    -73.983070     69.000000   \n",
       "50%    1.967728e+07  3.079382e+07     40.723070    -73.955680    106.000000   \n",
       "75%    2.915218e+07  1.074344e+08     40.763115    -73.936275    175.000000   \n",
       "max    3.648724e+07  2.743213e+08     40.913060    -73.712990  10000.000000   \n",
       "\n",
       "       minimum_nights  number_of_reviews  reviews_per_month  \\\n",
       "count    48895.000000       48895.000000       38843.000000   \n",
       "mean         7.029962          23.274466           1.373221   \n",
       "std         20.510550          44.550582           1.680442   \n",
       "min          1.000000           0.000000           0.010000   \n",
       "25%          1.000000           1.000000           0.190000   \n",
       "50%          3.000000           5.000000           0.720000   \n",
       "75%          5.000000          24.000000           2.020000   \n",
       "max       1250.000000         629.000000          58.500000   \n",
       "\n",
       "       calculated_host_listings_count  availability_365  \n",
       "count                    48895.000000      48895.000000  \n",
       "mean                         7.143982        112.781327  \n",
       "std                         32.952519        131.622289  \n",
       "min                          1.000000          0.000000  \n",
       "25%                          1.000000          0.000000  \n",
       "50%                          1.000000         45.000000  \n",
       "75%                          2.000000        227.000000  \n",
       "max                        327.000000        365.000000  "
      ]
     },
     "execution_count": 18,
     "metadata": {},
     "output_type": "execute_result"
    }
   ],
   "source": [
    "df.describe()"
   ]
  },
  {
   "cell_type": "markdown",
   "id": "e8a91963-96da-44e3-b2a3-7b8073f6eb96",
   "metadata": {
    "jp-MarkdownHeadingCollapsed": true
   },
   "source": [
    "## Are there any duplicate values?"
   ]
  },
  {
   "cell_type": "code",
   "execution_count": 20,
   "id": "80039030-c3d3-44e2-9dcc-32c03568512c",
   "metadata": {},
   "outputs": [
    {
     "data": {
      "text/plain": [
       "np.int64(0)"
      ]
     },
     "execution_count": 20,
     "metadata": {},
     "output_type": "execute_result"
    }
   ],
   "source": [
    "df.duplicated().sum()"
   ]
  },
  {
   "cell_type": "markdown",
   "id": "dd8f4f45-d7d3-44df-8e3e-ca0a48f0c813",
   "metadata": {
    "jp-MarkdownHeadingCollapsed": true
   },
   "source": [
    "## How many unique values are there in each column?"
   ]
  },
  {
   "cell_type": "code",
   "execution_count": 22,
   "id": "c105fae0-6cf9-45a3-8d6b-65eabd7dcd25",
   "metadata": {},
   "outputs": [
    {
     "data": {
      "text/plain": [
       "array(['Clean & quiet apt home by the park', 'Skylit Midtown Castle',\n",
       "       'THE VILLAGE OF HARLEM....NEW YORK !', ...,\n",
       "       'Sunny Studio at Historical Neighborhood',\n",
       "       '43rd St. Time Square-cozy single bed',\n",
       "       \"Trendy duplex in the very heart of Hell's Kitchen\"], dtype=object)"
      ]
     },
     "execution_count": 22,
     "metadata": {},
     "output_type": "execute_result"
    }
   ],
   "source": [
    "df.nunique()\n",
    "#df['name'].unique() # shows all the unique values."
   ]
  },
  {
   "cell_type": "markdown",
   "id": "07b8ae77-e4b1-43a6-bdf6-1d9948477ae2",
   "metadata": {
    "jp-MarkdownHeadingCollapsed": true
   },
   "source": [
    "## Are there any outliers in the Numerical columns?"
   ]
  },
  {
   "cell_type": "code",
   "execution_count": 23,
   "id": "8dc4bf37-d9b3-486f-935b-55f79f4512cc",
   "metadata": {},
   "outputs": [
    {
     "data": {
      "text/plain": [
       "<Axes: ylabel='price'>"
      ]
     },
     "execution_count": 23,
     "metadata": {},
     "output_type": "execute_result"
    },
    {
     "data": {
      "image/png": "[encoded data removed]",
      "text/plain": [
       "<Figure size 640x480 with 1 Axes>"
      ]
     },
     "metadata": {},
     "output_type": "display_data"
    }
   ],
   "source": [
    "sns.boxplot(df['price'])"
   ]
  },
  {
   "cell_type": "code",
   "execution_count": 24,
   "id": "65c4306c-fd34-4201-8b9b-dea9868f9760",
   "metadata": {},
   "outputs": [
    {
     "data": {
      "text/plain": [
       "<Axes: ylabel='availability_365'>"
      ]
     },
     "execution_count": 24,
     "metadata": {},
     "output_type": "execute_result"
    },
    {
     "data": {
      "image/png": "[encoded data removed]",
      "text/plain": [
       "<Figure size 640x480 with 1 Axes>"
      ]
     },
     "metadata": {},
     "output_type": "display_data"
    }
   ],
   "source": [
    "sns.boxplot(df['availability_365'])"
   ]
  },
  {
   "cell_type": "code",
   "execution_count": null,
   "id": "2c49435a-edc2-4fc7-a21d-c5c080cf1201",
   "metadata": {},
   "outputs": [],
   "source": []
  }
 ],
 "metadata": {
  "kernelspec": {
   "display_name": "Python 3 (ipykernel)",
   "language": "python",
   "name": "python3"
  },
  "language_info": {
   "codemirror_mode": {
    "name": "ipython",
    "version": 3
   },
   "file_extension": ".py",
   "mimetype": "text/x-python",
   "name": "python",
   "nbconvert_exporter": "python",
   "pygments_lexer": "ipython3",
   "version": "3.12.2"
  }
 },
 "nbformat": 4,
 "nbformat_minor": 5
}
