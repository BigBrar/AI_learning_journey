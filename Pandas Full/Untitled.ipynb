{
 "cells": [
  {
   "cell_type": "code",
   "execution_count": 4,
   "id": "418ac4eb-946c-4e3b-be5d-d5aa1d4acb12",
   "metadata": {},
   "outputs": [],
   "source": [
    "import pandas as pd \n",
    "import numpy as np"
   ]
  },
  {
   "cell_type": "code",
   "execution_count": 3,
   "id": "06504f76-9da5-4743-9a13-b43d206dae1c",
   "metadata": {},
   "outputs": [
    {
     "name": "stdout",
     "output_type": "stream",
     "text": [
      "Current pandas version: 2.2.3\n"
     ]
    }
   ],
   "source": [
    "print(f'Current pandas version: {pd.__version__}')"
   ]
  },
  {
   "cell_type": "code",
   "execution_count": 7,
   "id": "365f5ef4-1a85-40fd-8fb9-ab084097f55b",
   "metadata": {},
   "outputs": [
    {
     "data": {
      "text/plain": [
       "0    1\n",
       "1    2\n",
       "2    3\n",
       "3    4\n",
       "4    5\n",
       "5    6\n",
       "dtype: int64"
      ]
     },
     "execution_count": 7,
     "metadata": {},
     "output_type": "execute_result"
    }
   ],
   "source": [
    "lst = [1,2,3,4,5,6]\n",
    "arr = np.array(lst)\n",
    "pd.Series(arr)"
   ]
  },
  {
   "cell_type": "code",
   "execution_count": 9,
   "id": "e5b739a3-20cb-487a-b1c2-71a121b83938",
   "metadata": {},
   "outputs": [
    {
     "data": {
      "text/plain": [
       "3     Deepinder\n",
       "2     Lovepreet\n",
       "4        Jashan\n",
       "1    Sukhjinder\n",
       "dtype: object"
      ]
     },
     "execution_count": 9,
     "metadata": {},
     "output_type": "execute_result"
    }
   ],
   "source": [
    "#giving custom index for series \n",
    "pd.Series(data=['Deepinder','Lovepreet','Jashan','Sukhjinder'], index=[3,2,4,1])"
   ]
  },
  {
   "cell_type": "code",
   "execution_count": 10,
   "id": "ca21ddb0-c87c-4803-8174-87690fc08123",
   "metadata": {},
   "outputs": [
    {
     "data": {
      "text/plain": [
       "day_1     2000\n",
       "day_2     4000\n",
       "day_3    12000\n",
       "dtype: int64"
      ]
     },
     "execution_count": 10,
     "metadata": {},
     "output_type": "execute_result"
    }
   ],
   "source": [
    "#series with dictionary \n",
    "steps = {'day_1':2000,'day_2':4000,'day_3':12000}\n",
    "pd.Series(steps)"
   ]
  },
  {
   "cell_type": "markdown",
   "id": "eff8a7fd-ad8e-4057-a398-1601144e1330",
   "metadata": {},
   "source": [
    "#### Repeat function - used to use duplicate values defined number of times"
   ]
  },
  {
   "cell_type": "code",
   "execution_count": 16,
   "id": "79d42e12-a9df-4b67-b70f-0e3e2f99a36e",
   "metadata": {},
   "outputs": [
    {
     "data": {
      "text/plain": [
       "0    12\n",
       "0    12\n",
       "0    12\n",
       "dtype: int64"
      ]
     },
     "execution_count": 16,
     "metadata": {},
     "output_type": "execute_result"
    }
   ],
   "source": [
    "pd.Series([12]).repeat(3)"
   ]
  },
  {
   "cell_type": "markdown",
   "id": "9dbc8fd1-d686-4225-b524-7842aa6fc03b",
   "metadata": {},
   "source": [
    "#### using reset to make index accurate"
   ]
  },
  {
   "cell_type": "code",
   "execution_count": 19,
   "id": "9a769a69-35f9-4cb7-bcf4-e3bf92d2d8f7",
   "metadata": {},
   "outputs": [
    {
     "data": {
      "text/plain": [
       "0    12\n",
       "1    12\n",
       "2    12\n",
       "dtype: int64"
      ]
     },
     "execution_count": 19,
     "metadata": {},
     "output_type": "execute_result"
    }
   ],
   "source": [
    "pd.Series([12]).repeat(3).reset_index() #this returns a dataframe with new index\n",
    "pd.Series([12]).repeat(3).reset_index(drop=True) #this just replaces the old index."
   ]
  },
  {
   "cell_type": "markdown",
   "id": "30e05bb3-d84d-4fd7-ace9-3c2bc60b1a14",
   "metadata": {},
   "source": [
    "#### more control on \"repeat\""
   ]
  },
  {
   "cell_type": "code",
   "execution_count": 22,
   "id": "4dac0c67-88af-4718-9502-371a45e1ee4d",
   "metadata": {},
   "outputs": [],
   "source": [
    "s = pd.Series([15,20]).repeat([3,2]) #this repeats 15 3 times and 20 2 times"
   ]
  },
  {
   "cell_type": "markdown",
   "id": "67bcf86f-f7cc-4fd6-8821-862576b19822",
   "metadata": {},
   "source": [
    "#### Accessing elements"
   ]
  },
  {
   "cell_type": "code",
   "execution_count": 28,
   "id": "defa9c6c-3ea6-4b5c-8d15-4e44e22a2204",
   "metadata": {},
   "outputs": [
    {
     "data": {
      "text/plain": [
       "np.int64(20)"
      ]
     },
     "execution_count": 28,
     "metadata": {},
     "output_type": "execute_result"
    }
   ],
   "source": [
    "s[0]\n",
    "s = pd.Series([15,20]).repeat([3,2]).reset_index(drop=True)\n",
    "s[4] #prints the value that is at index 4 "
   ]
  },
  {
   "cell_type": "markdown",
   "id": "e1bee550-9658-4dbb-849b-ccf5df40d047",
   "metadata": {},
   "source": [
    "#### Aggregate function - it is discontinued so we can use alternatives (given below)"
   ]
  },
  {
   "cell_type": "code",
   "execution_count": 40,
   "id": "d70a942b-4442-4ce5-bd89-906390aa2953",
   "metadata": {},
   "outputs": [
    {
     "name": "stdout",
     "output_type": "stream",
     "text": [
      "Min value: 1\n",
      "Max value: 7\n",
      "Sum value: 28\n"
     ]
    }
   ],
   "source": [
    "ser = pd.Series([1,2,3,4,5,6,7])\n",
    "# ser.agg([min]) \n",
    "print(f'Min value: {ser.min()}')\n",
    "print(f'Max value: {ser.max()}')\n",
    "print(f'Sum value: {ser.sum()}')"
   ]
  },
  {
   "cell_type": "code",
   "execution_count": 43,
   "id": "9ed253dc-b40c-4ecc-8a60-74acd4c6fbd9",
   "metadata": {},
   "outputs": [
    {
     "data": {
      "text/plain": [
       "0    1\n",
       "1    2\n",
       "2    3\n",
       "3    4\n",
       "4    5\n",
       "5    6\n",
       "6    7\n",
       "dtype: int64"
      ]
     },
     "execution_count": 43,
     "metadata": {},
     "output_type": "execute_result"
    }
   ],
   "source": [
    "#absolute function\n",
    "ser = pd.Series([1,-2,3,-4,5,-6,7])\n",
    "ser.abs()"
   ]
  },
  {
   "cell_type": "markdown",
   "id": "5ff2f97f-3080-4c51-832a-cd3b81ae3f49",
   "metadata": {},
   "source": [
    "#### Appending two series to one."
   ]
  },
  {
   "cell_type": "code",
   "execution_count": 47,
   "id": "ba9705b7-d6eb-4356-901f-fbfa9f1a520b",
   "metadata": {},
   "outputs": [
    {
     "data": {
      "text/plain": [
       "0     1\n",
       "1    -2\n",
       "2     3\n",
       "3    -4\n",
       "4     5\n",
       "5    -6\n",
       "6     7\n",
       "7     1\n",
       "8     2\n",
       "9     3\n",
       "10    4\n",
       "11    5\n",
       "12    6\n",
       "13    7\n",
       "dtype: int64"
      ]
     },
     "execution_count": 47,
     "metadata": {},
     "output_type": "execute_result"
    }
   ],
   "source": [
    "ser = pd.Series([1,-2,3,-4,5,-6,7])\n",
    "ser2 = pd.Series([1,2,3,4,5,6,7])\n",
    "ser._append(ser2)\n",
    "# ser._append(ser2).reset_index(drop=True)"
   ]
  },
  {
   "cell_type": "markdown",
   "id": "7a7d6756-f9c6-4d79-8f99-b60831440c27",
   "metadata": {},
   "source": [
    "#### Astype"
   ]
  },
  {
   "cell_type": "code",
   "execution_count": 51,
   "id": "bed0f984-08dd-4a1d-b209-04069eb29fe3",
   "metadata": {},
   "outputs": [
    {
     "name": "stdout",
     "output_type": "stream",
     "text": [
      "Type of the data before: <class 'numpy.int64'>\n",
      "Type of the data after: <class 'str'>\n"
     ]
    }
   ],
   "source": [
    "ser = pd.Series([1,2,3,4,5])\n",
    "print(f'Type of the data before: {type(ser[0])}')\n",
    "ser = ser.astype('str')\n",
    "print(f'Type of the data after: {type(ser[0])}')"
   ]
  },
  {
   "cell_type": "markdown",
   "id": "af05364c-60d4-4f3f-8ecd-6ac63fd709b0",
   "metadata": {},
   "source": [
    "#### Between"
   ]
  },
  {
   "cell_type": "code",
   "execution_count": 52,
   "id": "a9dcf7de-d8e2-4645-9387-da3934cf951d",
   "metadata": {},
   "outputs": [
    {
     "data": {
      "text/plain": [
       "0    False\n",
       "1    False\n",
       "2    False\n",
       "3    False\n",
       "4     True\n",
       "5     True\n",
       "6     True\n",
       "7    False\n",
       "8    False\n",
       "9    False\n",
       "dtype: bool"
      ]
     },
     "execution_count": 52,
     "metadata": {},
     "output_type": "execute_result"
    }
   ],
   "source": [
    "ser = pd.Series([1,2,3,4,5,6,7,8,9,10])\n",
    "ser.between(5,7)"
   ]
  },
  {
   "cell_type": "markdown",
   "id": "1db775e3-5b61-47bc-bc68-ae5c3801f704",
   "metadata": {},
   "source": [
    "#### String functions - "
   ]
  },
  {
   "cell_type": "code",
   "execution_count": 58,
   "id": "bb46075c-8e82-4133-b5f6-4eed2168d80a",
   "metadata": {},
   "outputs": [
    {
     "data": {
      "text/plain": [
       "0    2\n",
       "1    1\n",
       "2    0\n",
       "3    0\n",
       "dtype: int64"
      ]
     },
     "execution_count": 58,
     "metadata": {},
     "output_type": "execute_result"
    }
   ],
   "source": [
    "ser = pd.Series(['Deep','Inder','Singh','Brar'])\n",
    "ser.str.upper()\n",
    "ser.str.lower()\n",
    "ser.str.contains('e')\n",
    "ser.str.replace('e','E')\n",
    "ser.str.count('e')\n",
    "# ser.str.upper()"
   ]
  },
  {
   "cell_type": "markdown",
   "id": "412c2a42-f366-42e1-bbc1-70f08a034f4a",
   "metadata": {},
   "source": [
    "#### Creating a Dataframe - "
   ]
  },
  {
   "cell_type": "code",
   "execution_count": 60,
   "id": "d41c905c-9308-4240-8724-efca069a5045",
   "metadata": {},
   "outputs": [],
   "source": [
    "df = pd.DataFrame([1,2,3,4,5,6,7,8,9])\n",
    "df"
   ]
  },
  {
   "cell_type": "code",
   "execution_count": 64,
   "id": "6d1c8c77-8e5b-4fa5-af79-df9cf34fb89c",
   "metadata": {},
   "outputs": [
    {
     "data": {
      "text/html": [
       "<div>\n",
       "<style scoped>\n",
       "    .dataframe tbody tr th:only-of-type {\n",
       "        vertical-align: middle;\n",
       "    }\n",
       "\n",
       "    .dataframe tbody tr th {\n",
       "        vertical-align: top;\n",
       "    }\n",
       "\n",
       "    .dataframe thead th {\n",
       "        text-align: right;\n",
       "    }\n",
       "</style>\n",
       "<table border=\"1\" class=\"dataframe\">\n",
       "  <thead>\n",
       "    <tr style=\"text-align: right;\">\n",
       "      <th></th>\n",
       "      <th>name</th>\n",
       "      <th>age</th>\n",
       "    </tr>\n",
       "  </thead>\n",
       "  <tbody>\n",
       "    <tr>\n",
       "      <th>0</th>\n",
       "      <td>Deepinder</td>\n",
       "      <td>19</td>\n",
       "    </tr>\n",
       "    <tr>\n",
       "      <th>1</th>\n",
       "      <td>Navu</td>\n",
       "      <td>25</td>\n",
       "    </tr>\n",
       "    <tr>\n",
       "      <th>2</th>\n",
       "      <td>Dilpreet</td>\n",
       "      <td>31</td>\n",
       "    </tr>\n",
       "  </tbody>\n",
       "</table>\n",
       "</div>"
      ],
      "text/plain": [
       "        name  age\n",
       "0  Deepinder   19\n",
       "1       Navu   25\n",
       "2   Dilpreet   31"
      ]
     },
     "execution_count": 64,
     "metadata": {},
     "output_type": "execute_result"
    }
   ],
   "source": [
    "pd.DataFrame({'name':['Deepinder','Navu','Dilpreet'], 'age':[19,25,31]})"
   ]
  },
  {
   "cell_type": "markdown",
   "id": "ea110d83-878f-4e4f-b0ae-108860690a72",
   "metadata": {},
   "source": [
    "#### Slicing in Dataframes using loc and iloc"
   ]
  },
  {
   "cell_type": "code",
   "execution_count": 70,
   "id": "d3075d0f-51ce-4b8a-899a-718360371084",
   "metadata": {},
   "outputs": [
    {
     "data": {
      "text/html": [
       "<div>\n",
       "<style scoped>\n",
       "    .dataframe tbody tr th:only-of-type {\n",
       "        vertical-align: middle;\n",
       "    }\n",
       "\n",
       "    .dataframe tbody tr th {\n",
       "        vertical-align: top;\n",
       "    }\n",
       "\n",
       "    .dataframe thead th {\n",
       "        text-align: right;\n",
       "    }\n",
       "</style>\n",
       "<table border=\"1\" class=\"dataframe\">\n",
       "  <thead>\n",
       "    <tr style=\"text-align: right;\">\n",
       "      <th></th>\n",
       "      <th>two</th>\n",
       "      <th>three</th>\n",
       "    </tr>\n",
       "  </thead>\n",
       "  <tbody>\n",
       "    <tr>\n",
       "      <th>1</th>\n",
       "      <td>20</td>\n",
       "      <td>200</td>\n",
       "    </tr>\n",
       "    <tr>\n",
       "      <th>2</th>\n",
       "      <td>30</td>\n",
       "      <td>300</td>\n",
       "    </tr>\n",
       "  </tbody>\n",
       "</table>\n",
       "</div>"
      ],
      "text/plain": [
       "   two  three\n",
       "1   20    200\n",
       "2   30    300"
      ]
     },
     "execution_count": 70,
     "metadata": {},
     "output_type": "execute_result"
    }
   ],
   "source": [
    "data = {\n",
    "    'one':[1,2,3,4],\n",
    "    'two':[10,20,30,40],\n",
    "    'three':[100,200,300,400],\n",
    "    'four':[1000,2000,3000,4000]\n",
    "}\n",
    "df = pd.DataFrame(data)\n",
    "df.loc[1:2]\n",
    "df.loc[1:2,'two':'three']"
   ]
  },
  {
   "cell_type": "code",
   "execution_count": 79,
   "id": "aae31d2f-cd71-453f-b062-36948e02182e",
   "metadata": {},
   "outputs": [
    {
     "data": {
      "text/html": [
       "<div>\n",
       "<style scoped>\n",
       "    .dataframe tbody tr th:only-of-type {\n",
       "        vertical-align: middle;\n",
       "    }\n",
       "\n",
       "    .dataframe tbody tr th {\n",
       "        vertical-align: top;\n",
       "    }\n",
       "\n",
       "    .dataframe thead th {\n",
       "        text-align: right;\n",
       "    }\n",
       "</style>\n",
       "<table border=\"1\" class=\"dataframe\">\n",
       "  <thead>\n",
       "    <tr style=\"text-align: right;\">\n",
       "      <th></th>\n",
       "      <th>two</th>\n",
       "      <th>four</th>\n",
       "    </tr>\n",
       "  </thead>\n",
       "  <tbody>\n",
       "    <tr>\n",
       "      <th>0</th>\n",
       "      <td>10</td>\n",
       "      <td>1000</td>\n",
       "    </tr>\n",
       "    <tr>\n",
       "      <th>1</th>\n",
       "      <td>20</td>\n",
       "      <td>2000</td>\n",
       "    </tr>\n",
       "  </tbody>\n",
       "</table>\n",
       "</div>"
      ],
      "text/plain": [
       "   two  four\n",
       "0   10  1000\n",
       "1   20  2000"
      ]
     },
     "execution_count": 79,
     "metadata": {},
     "output_type": "execute_result"
    }
   ],
   "source": [
    "#iloc\n",
    "df.iloc[:2,:] #first : is for rows and second : is for columns \n",
    "# df.iloc[:2,1:4]\n",
    "\n",
    "#we can also use list for this - \n",
    "df.iloc[[0,1],[1,3]] #here only those will be visible that you specify in the list, as you have the column 1 and 3 so only two and four are visible.\n"
   ]
  },
  {
   "cell_type": "code",
   "execution_count": 81,
   "id": "9fcfaaf4-c153-41c4-bad2-9ec9338ec537",
   "metadata": {},
   "outputs": [
    {
     "data": {
      "text/html": [
       "<div>\n",
       "<style scoped>\n",
       "    .dataframe tbody tr th:only-of-type {\n",
       "        vertical-align: middle;\n",
       "    }\n",
       "\n",
       "    .dataframe tbody tr th {\n",
       "        vertical-align: top;\n",
       "    }\n",
       "\n",
       "    .dataframe thead th {\n",
       "        text-align: right;\n",
       "    }\n",
       "</style>\n",
       "<table border=\"1\" class=\"dataframe\">\n",
       "  <thead>\n",
       "    <tr style=\"text-align: right;\">\n",
       "      <th></th>\n",
       "      <th>one</th>\n",
       "      <th>two</th>\n",
       "      <th>three</th>\n",
       "      <th>four</th>\n",
       "      <th>fifth</th>\n",
       "    </tr>\n",
       "  </thead>\n",
       "  <tbody>\n",
       "    <tr>\n",
       "      <th>0</th>\n",
       "      <td>1</td>\n",
       "      <td>10</td>\n",
       "      <td>100</td>\n",
       "      <td>1000</td>\n",
       "      <td>1</td>\n",
       "    </tr>\n",
       "    <tr>\n",
       "      <th>1</th>\n",
       "      <td>2</td>\n",
       "      <td>20</td>\n",
       "      <td>200</td>\n",
       "      <td>2000</td>\n",
       "      <td>2</td>\n",
       "    </tr>\n",
       "    <tr>\n",
       "      <th>2</th>\n",
       "      <td>3</td>\n",
       "      <td>30</td>\n",
       "      <td>300</td>\n",
       "      <td>3000</td>\n",
       "      <td>3</td>\n",
       "    </tr>\n",
       "    <tr>\n",
       "      <th>3</th>\n",
       "      <td>4</td>\n",
       "      <td>40</td>\n",
       "      <td>400</td>\n",
       "      <td>4000</td>\n",
       "      <td>4</td>\n",
       "    </tr>\n",
       "  </tbody>\n",
       "</table>\n",
       "</div>"
      ],
      "text/plain": [
       "   one  two  three  four  fifth\n",
       "0    1   10    100  1000      1\n",
       "1    2   20    200  2000      2\n",
       "2    3   30    300  3000      3\n",
       "3    4   40    400  4000      4"
      ]
     },
     "execution_count": 81,
     "metadata": {},
     "output_type": "execute_result"
    }
   ],
   "source": [
    "#adding new column to existing dataframe\n",
    "fifth = [1,2,3,4]\n",
    "df['fifth'] = fifth\n",
    "df"
   ]
  },
  {
   "cell_type": "markdown",
   "id": "3aa7cc53-2e4b-44ac-9172-b9583a283611",
   "metadata": {},
   "source": [
    "#### Deleting a column - "
   ]
  },
  {
   "cell_type": "code",
   "execution_count": 82,
   "id": "158a2bb5-bc96-4d9c-8715-18b8302ebbf1",
   "metadata": {},
   "outputs": [
    {
     "data": {
      "text/plain": [
       "0    1\n",
       "1    2\n",
       "2    3\n",
       "3    4\n",
       "Name: fifth, dtype: int64"
      ]
     },
     "execution_count": 82,
     "metadata": {},
     "output_type": "execute_result"
    }
   ],
   "source": [
    "df.pop('fifth')"
   ]
  },
  {
   "cell_type": "markdown",
   "id": "2abd76e8-66c1-4401-af89-5df157cc41b3",
   "metadata": {},
   "source": [
    "#### Transpose - converts the rows to columns and vice versa"
   ]
  },
  {
   "cell_type": "code",
   "execution_count": 85,
   "id": "1a50e9f5-cb7b-4e11-b23b-56a2dd14688a",
   "metadata": {},
   "outputs": [
    {
     "data": {
      "text/html": [
       "<div>\n",
       "<style scoped>\n",
       "    .dataframe tbody tr th:only-of-type {\n",
       "        vertical-align: middle;\n",
       "    }\n",
       "\n",
       "    .dataframe tbody tr th {\n",
       "        vertical-align: top;\n",
       "    }\n",
       "\n",
       "    .dataframe thead th {\n",
       "        text-align: right;\n",
       "    }\n",
       "</style>\n",
       "<table border=\"1\" class=\"dataframe\">\n",
       "  <thead>\n",
       "    <tr style=\"text-align: right;\">\n",
       "      <th></th>\n",
       "      <th>0</th>\n",
       "      <th>1</th>\n",
       "      <th>2</th>\n",
       "      <th>3</th>\n",
       "    </tr>\n",
       "  </thead>\n",
       "  <tbody>\n",
       "    <tr>\n",
       "      <th>one</th>\n",
       "      <td>1</td>\n",
       "      <td>2</td>\n",
       "      <td>3</td>\n",
       "      <td>4</td>\n",
       "    </tr>\n",
       "    <tr>\n",
       "      <th>two</th>\n",
       "      <td>10</td>\n",
       "      <td>20</td>\n",
       "      <td>30</td>\n",
       "      <td>40</td>\n",
       "    </tr>\n",
       "    <tr>\n",
       "      <th>three</th>\n",
       "      <td>100</td>\n",
       "      <td>200</td>\n",
       "      <td>300</td>\n",
       "      <td>400</td>\n",
       "    </tr>\n",
       "    <tr>\n",
       "      <th>four</th>\n",
       "      <td>1000</td>\n",
       "      <td>2000</td>\n",
       "      <td>3000</td>\n",
       "      <td>4000</td>\n",
       "    </tr>\n",
       "  </tbody>\n",
       "</table>\n",
       "</div>"
      ],
      "text/plain": [
       "          0     1     2     3\n",
       "one       1     2     3     4\n",
       "two      10    20    30    40\n",
       "three   100   200   300   400\n",
       "four   1000  2000  3000  4000"
      ]
     },
     "execution_count": 85,
     "metadata": {},
     "output_type": "execute_result"
    }
   ],
   "source": [
    "df.T #the column names are replaces wtih rows name and vice versa "
   ]
  },
  {
   "cell_type": "markdown",
   "id": "188fd320-e1c9-4729-ad4f-c1986f3cc5e6",
   "metadata": {},
   "source": [
    "- Axes - returns a list containing the names of rows and columns."
   ]
  },
  {
   "cell_type": "code",
   "execution_count": 88,
   "id": "c8abc76f-ff0c-4778-a539-4ff06565f4f8",
   "metadata": {},
   "outputs": [
    {
     "data": {
      "text/plain": [
       "[RangeIndex(start=0, stop=4, step=1),\n",
       " Index(['one', 'two', 'three', 'four'], dtype='object')]"
      ]
     },
     "execution_count": 88,
     "metadata": {},
     "output_type": "execute_result"
    }
   ],
   "source": [
    "df.axes"
   ]
  },
  {
   "cell_type": "markdown",
   "id": "9de53fb6-b03c-408b-aaae-34a29cffe092",
   "metadata": {},
   "source": [
    "- ndim : returns the number of dimensions your data has "
   ]
  },
  {
   "cell_type": "code",
   "execution_count": 89,
   "id": "73dec2e8-42ed-4a85-9c54-606430b77902",
   "metadata": {},
   "outputs": [
    {
     "data": {
      "text/plain": [
       "2"
      ]
     },
     "execution_count": 89,
     "metadata": {},
     "output_type": "execute_result"
    }
   ],
   "source": [
    "df.ndim"
   ]
  },
  {
   "cell_type": "markdown",
   "id": "9ffb4c5d-5486-444f-b09b-bdf9d5eec693",
   "metadata": {},
   "source": [
    "- dtypes : tells what kind of data each row has"
   ]
  },
  {
   "cell_type": "code",
   "execution_count": 90,
   "id": "1e267b0e-93f1-42fc-84e5-51baa9d2461d",
   "metadata": {},
   "outputs": [
    {
     "data": {
      "text/plain": [
       "one      int64\n",
       "two      int64\n",
       "three    int64\n",
       "four     int64\n",
       "dtype: object"
      ]
     },
     "execution_count": 90,
     "metadata": {},
     "output_type": "execute_result"
    }
   ],
   "source": [
    "df.dtypes"
   ]
  },
  {
   "cell_type": "markdown",
   "id": "fc3f5a49-c513-42b4-8e36-6d17b2fd0e99",
   "metadata": {},
   "source": [
    "#### Mean, Median, Mod "
   ]
  },
  {
   "cell_type": "code",
   "execution_count": 99,
   "id": "66854a89-cdbe-447c-8ca6-4be6c3e40469",
   "metadata": {},
   "outputs": [
    {
     "name": "stdout",
     "output_type": "stream",
     "text": [
      "Mean: one         2.5\n",
      "two        25.0\n",
      "three     250.0\n",
      "four     2500.0\n",
      "dtype: float64\n",
      "Median:one         2.5\n",
      "two        25.0\n",
      "three     250.0\n",
      "four     2500.0\n",
      "dtype: float64\n",
      "Mod:0    1\n",
      "1    2\n",
      "2    3\n",
      "3    4\n",
      "Name: one, dtype: int64\n"
     ]
    }
   ],
   "source": [
    "mean = df.mean()\n",
    "median = df.median()\n",
    "mod = df['one'].mode()\n",
    "print(f'Mean: {mean}\\nMedian:{median}\\nMod:{mod}')"
   ]
  },
  {
   "cell_type": "markdown",
   "id": "ae8bf2b8-24cd-4dea-9212-ff7eb9ede76f",
   "metadata": {},
   "source": [
    "#### Min, Max, Standard Deviation"
   ]
  },
  {
   "cell_type": "code",
   "execution_count": 104,
   "id": "081d03bf-510f-4046-9ed3-b4abde95195a",
   "metadata": {},
   "outputs": [
    {
     "data": {
      "text/plain": [
       "one         1.290994\n",
       "two        12.909944\n",
       "three     129.099445\n",
       "four     1290.994449\n",
       "dtype: float64"
      ]
     },
     "execution_count": 104,
     "metadata": {},
     "output_type": "execute_result"
    }
   ],
   "source": [
    "df.min()\n",
    "# df.max()\n",
    "df.std()"
   ]
  },
  {
   "cell_type": "markdown",
   "id": "ffe37c26-7768-4991-a3c3-6ae2c70519f9",
   "metadata": {},
   "source": [
    "- pipe method : used to call a function on all the values of a dataframe "
   ]
  },
  {
   "cell_type": "code",
   "execution_count": 107,
   "id": "c94e94e6-a027-4f49-86c8-92216049a77f",
   "metadata": {},
   "outputs": [
    {
     "data": {
      "text/html": [
       "<div>\n",
       "<style scoped>\n",
       "    .dataframe tbody tr th:only-of-type {\n",
       "        vertical-align: middle;\n",
       "    }\n",
       "\n",
       "    .dataframe tbody tr th {\n",
       "        vertical-align: top;\n",
       "    }\n",
       "\n",
       "    .dataframe thead th {\n",
       "        text-align: right;\n",
       "    }\n",
       "</style>\n",
       "<table border=\"1\" class=\"dataframe\">\n",
       "  <thead>\n",
       "    <tr style=\"text-align: right;\">\n",
       "      <th></th>\n",
       "      <th>one</th>\n",
       "      <th>two</th>\n",
       "      <th>three</th>\n",
       "      <th>four</th>\n",
       "    </tr>\n",
       "  </thead>\n",
       "  <tbody>\n",
       "    <tr>\n",
       "      <th>0</th>\n",
       "      <td>11</td>\n",
       "      <td>20</td>\n",
       "      <td>110</td>\n",
       "      <td>1010</td>\n",
       "    </tr>\n",
       "    <tr>\n",
       "      <th>1</th>\n",
       "      <td>12</td>\n",
       "      <td>30</td>\n",
       "      <td>210</td>\n",
       "      <td>2010</td>\n",
       "    </tr>\n",
       "    <tr>\n",
       "      <th>2</th>\n",
       "      <td>13</td>\n",
       "      <td>40</td>\n",
       "      <td>310</td>\n",
       "      <td>3010</td>\n",
       "    </tr>\n",
       "    <tr>\n",
       "      <th>3</th>\n",
       "      <td>14</td>\n",
       "      <td>50</td>\n",
       "      <td>410</td>\n",
       "      <td>4010</td>\n",
       "    </tr>\n",
       "  </tbody>\n",
       "</table>\n",
       "</div>"
      ],
      "text/plain": [
       "   one  two  three  four\n",
       "0   11   20    110  1010\n",
       "1   12   30    210  2010\n",
       "2   13   40    310  3010\n",
       "3   14   50    410  4010"
      ]
     },
     "execution_count": 107,
     "metadata": {},
     "output_type": "execute_result"
    }
   ],
   "source": [
    "def add_(i,j):\n",
    "    return i+j\n",
    "df.pipe(add_,10) #added 10 to each value of every column"
   ]
  },
  {
   "cell_type": "markdown",
   "id": "5806e354-1dac-444b-a3c5-3e78ba29cb64",
   "metadata": {},
   "source": [
    "- apply : can be used to apply some things to our dataframe "
   ]
  },
  {
   "cell_type": "code",
   "execution_count": 114,
   "id": "7d2ee9ef-7d17-44a4-b934-88cc84aa58bc",
   "metadata": {},
   "outputs": [
    {
     "data": {
      "text/plain": [
       "one         3\n",
       "two        30\n",
       "three     300\n",
       "four     3000\n",
       "dtype: int64"
      ]
     },
     "execution_count": 114,
     "metadata": {},
     "output_type": "execute_result"
    }
   ],
   "source": [
    "df.apply(np.mean)\n",
    "df.apply(lambda x: x.max() - x.min()) #subtracts the max value with the min value."
   ]
  },
  {
   "cell_type": "markdown",
   "id": "9cf39774-4c90-45f7-9736-2db9b120f294",
   "metadata": {},
   "source": [
    "#### Renaming the columns - "
   ]
  },
  {
   "cell_type": "code",
   "execution_count": 117,
   "id": "3e6e64f6-ccea-48bf-9a88-69956fea097a",
   "metadata": {},
   "outputs": [
    {
     "data": {
      "text/html": [
       "<div>\n",
       "<style scoped>\n",
       "    .dataframe tbody tr th:only-of-type {\n",
       "        vertical-align: middle;\n",
       "    }\n",
       "\n",
       "    .dataframe tbody tr th {\n",
       "        vertical-align: top;\n",
       "    }\n",
       "\n",
       "    .dataframe thead th {\n",
       "        text-align: right;\n",
       "    }\n",
       "</style>\n",
       "<table border=\"1\" class=\"dataframe\">\n",
       "  <thead>\n",
       "    <tr style=\"text-align: right;\">\n",
       "      <th></th>\n",
       "      <th>ONE</th>\n",
       "      <th>TWO</th>\n",
       "      <th>three</th>\n",
       "      <th>four</th>\n",
       "    </tr>\n",
       "  </thead>\n",
       "  <tbody>\n",
       "    <tr>\n",
       "      <th>a</th>\n",
       "      <td>1</td>\n",
       "      <td>10</td>\n",
       "      <td>100</td>\n",
       "      <td>1000</td>\n",
       "    </tr>\n",
       "    <tr>\n",
       "      <th>b</th>\n",
       "      <td>2</td>\n",
       "      <td>20</td>\n",
       "      <td>200</td>\n",
       "      <td>2000</td>\n",
       "    </tr>\n",
       "    <tr>\n",
       "      <th>c</th>\n",
       "      <td>3</td>\n",
       "      <td>30</td>\n",
       "      <td>300</td>\n",
       "      <td>3000</td>\n",
       "    </tr>\n",
       "    <tr>\n",
       "      <th>d</th>\n",
       "      <td>4</td>\n",
       "      <td>40</td>\n",
       "      <td>400</td>\n",
       "      <td>4000</td>\n",
       "    </tr>\n",
       "  </tbody>\n",
       "</table>\n",
       "</div>"
      ],
      "text/plain": [
       "   ONE  TWO  three  four\n",
       "a    1   10    100  1000\n",
       "b    2   20    200  2000\n",
       "c    3   30    300  3000\n",
       "d    4   40    400  4000"
      ]
     },
     "execution_count": 117,
     "metadata": {},
     "output_type": "execute_result"
    }
   ],
   "source": [
    "df.rename(columns={'one':'ONE','two':'TWO'}, index={0:'a',1:'b',2:'c',3:'d'})"
   ]
  },
  {
   "cell_type": "code",
   "execution_count": null,
   "id": "ff27aae5-bab0-4ffe-98d6-25def7e5e22e",
   "metadata": {},
   "outputs": [],
   "source": []
  }
 ],
 "metadata": {
  "kernelspec": {
   "display_name": "Python 3 (ipykernel)",
   "language": "python",
   "name": "python3"
  },
  "language_info": {
   "codemirror_mode": {
    "name": "ipython",
    "version": 3
   },
   "file_extension": ".py",
   "mimetype": "text/x-python",
   "name": "python",
   "nbconvert_exporter": "python",
   "pygments_lexer": "ipython3",
   "version": "3.12.2"
  }
 },
 "nbformat": 4,
 "nbformat_minor": 5
}
