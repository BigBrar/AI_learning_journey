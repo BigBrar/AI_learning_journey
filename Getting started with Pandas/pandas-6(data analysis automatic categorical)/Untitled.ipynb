{
 "cells": [
  {
   "cell_type": "code",
   "execution_count": 2,
   "id": "0930999c-dd3b-41fc-9368-77624ccca632",
   "metadata": {},
   "outputs": [],
   "source": [
    "import pandas as pd\n",
    "data = pd.read_csv('googleplaystore.csv')"
   ]
  },
  {
   "cell_type": "code",
   "execution_count": 7,
   "id": "554c9fbd-7902-422e-b156-1208519078ff",
   "metadata": {},
   "outputs": [],
   "source": [
    "categories={}\n",
    "for name in data['Category'].unique():\n",
    "    ct=0\n",
    "    for i in data['Category']:\n",
    "        if(i==name):\n",
    "            ct+=1\n",
    "    categories[name] = ct"
   ]
  },
  {
   "cell_type": "markdown",
   "id": "0e616680-899a-4af1-93a3-84b5550305a6",
   "metadata": {},
   "source": [
    "## All different app categories and thier quantity."
   ]
  },
  {
   "cell_type": "code",
   "execution_count": 8,
   "id": "5ecc0246-7264-48b6-990d-4ca1175cd0f0",
   "metadata": {},
   "outputs": [
    {
     "data": {
      "text/plain": [
       "{'ART_AND_DESIGN': 65,\n",
       " 'AUTO_AND_VEHICLES': 85,\n",
       " 'BEAUTY': 53,\n",
       " 'BOOKS_AND_REFERENCE': 231,\n",
       " 'BUSINESS': 460,\n",
       " 'COMICS': 60,\n",
       " 'COMMUNICATION': 387,\n",
       " 'DATING': 234,\n",
       " 'EDUCATION': 156,\n",
       " 'ENTERTAINMENT': 149,\n",
       " 'EVENTS': 64,\n",
       " 'FINANCE': 366,\n",
       " 'FOOD_AND_DRINK': 127,\n",
       " 'HEALTH_AND_FITNESS': 341,\n",
       " 'HOUSE_AND_HOME': 88,\n",
       " 'LIBRARIES_AND_DEMO': 85,\n",
       " 'LIFESTYLE': 382,\n",
       " 'GAME': 1144,\n",
       " 'FAMILY': 1972,\n",
       " 'MEDICAL': 463,\n",
       " 'SOCIAL': 295,\n",
       " 'SHOPPING': 260,\n",
       " 'PHOTOGRAPHY': 335,\n",
       " 'SPORTS': 384,\n",
       " 'TRAVEL_AND_LOCAL': 258,\n",
       " 'TOOLS': 843,\n",
       " 'PERSONALIZATION': 392,\n",
       " 'PRODUCTIVITY': 424,\n",
       " 'PARENTING': 60,\n",
       " 'WEATHER': 82,\n",
       " 'VIDEO_PLAYERS': 175,\n",
       " 'NEWS_AND_MAGAZINES': 283,\n",
       " 'MAPS_AND_NAVIGATION': 137,\n",
       " '1.9': 1}"
      ]
     },
     "execution_count": 8,
     "metadata": {},
     "output_type": "execute_result"
    }
   ],
   "source": [
    "categories"
   ]
  },
  {
   "cell_type": "code",
   "execution_count": 10,
   "id": "e9a9cffd-0ae1-457d-be08-1b5302754b3d",
   "metadata": {},
   "outputs": [],
   "source": [
    "content_rating={}\n",
    "for name in data['Content Rating'].unique():\n",
    "    ct=0\n",
    "    for i in data['Content Rating']:\n",
    "        if(i==name):\n",
    "            ct+=1\n",
    "    content_rating[name] = ct"
   ]
  },
  {
   "cell_type": "code",
   "execution_count": 11,
   "id": "62f1c546-0a90-46d9-93f3-1ef78b81890f",
   "metadata": {},
   "outputs": [
    {
     "data": {
      "text/plain": [
       "{'Everyone': 8714,\n",
       " 'Teen': 1208,\n",
       " 'Everyone 10+': 414,\n",
       " 'Mature 17+': 499,\n",
       " 'Adults only 18+': 3,\n",
       " 'Unrated': 2,\n",
       " nan: 0}"
      ]
     },
     "execution_count": 11,
     "metadata": {},
     "output_type": "execute_result"
    }
   ],
   "source": [
    "content_rating"
   ]
  },
  {
   "cell_type": "code",
   "execution_count": 14,
   "id": "cd0f7fa7-55bc-4cb0-8eb0-ec57bd15dca4",
   "metadata": {},
   "outputs": [
    {
     "data": {
      "text/plain": [
       "count        10840\n",
       "unique           6\n",
       "top       Everyone\n",
       "freq          8714\n",
       "Name: Content Rating, dtype: object"
      ]
     },
     "execution_count": 14,
     "metadata": {},
     "output_type": "execute_result"
    }
   ],
   "source": [
    "data['Rating'].describe()"
   ]
  },
  {
   "cell_type": "code",
   "execution_count": null,
   "id": "ab6598f8-fa3c-4309-8c58-89dbb7c78c23",
   "metadata": {},
   "outputs": [],
   "source": []
  }
 ],
 "metadata": {
  "kernelspec": {
   "display_name": "Python 3 (ipykernel)",
   "language": "python",
   "name": "python3"
  },
  "language_info": {
   "codemirror_mode": {
    "name": "ipython",
    "version": 3
   },
   "file_extension": ".py",
   "mimetype": "text/x-python",
   "name": "python",
   "nbconvert_exporter": "python",
   "pygments_lexer": "ipython3",
   "version": "3.12.2"
  }
 },
 "nbformat": 4,
 "nbformat_minor": 5
}
