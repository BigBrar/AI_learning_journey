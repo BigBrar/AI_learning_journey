{
 "cells": [
  {
   "cell_type": "code",
   "execution_count": 35,
   "id": "b6c537e7-c24a-4979-85ec-baf3ea0a9896",
   "metadata": {},
   "outputs": [],
   "source": [
    "import pandas as pd \n",
    "import numpy as np\n",
    "from sklearn.impute import SimpleImputer\n",
    "df = pd.read_csv('googleplaystore.csv')"
   ]
  },
  {
   "cell_type": "code",
   "execution_count": 36,
   "id": "d4cd5592-5f4d-4365-8026-662fb8a7a538",
   "metadata": {},
   "outputs": [
    {
     "data": {
      "text/plain": [
       "np.int64(1474)"
      ]
     },
     "execution_count": 36,
     "metadata": {},
     "output_type": "execute_result"
    }
   ],
   "source": [
    "df['Rating'].isnull().sum()"
   ]
  },
  {
   "cell_type": "markdown",
   "id": "36e7ba71-acf1-4b59-889c-6d7756bee7fd",
   "metadata": {},
   "source": [
    "## Removing NaN values from Rating since it has most null values."
   ]
  },
  {
   "cell_type": "code",
   "execution_count": 27,
   "id": "d54cd619-213c-4703-87be-eb3469eb5bdc",
   "metadata": {},
   "outputs": [],
   "source": [
    "impute = SimpleImputer(missing_values=np.nan, strategy='mean')"
   ]
  },
  {
   "cell_type": "code",
   "execution_count": 28,
   "id": "e9ef46de-9141-47f3-a274-63634219d60f",
   "metadata": {},
   "outputs": [
    {
     "data": {
      "text/plain": [
       "array([[4.1],\n",
       "       [3.9],\n",
       "       [4.7],\n",
       "       ...,\n",
       "       [nan],\n",
       "       [4.5],\n",
       "       [4.5]])"
      ]
     },
     "execution_count": 28,
     "metadata": {},
     "output_type": "execute_result"
    }
   ],
   "source": [
    "df.iloc[:,2:3].values"
   ]
  },
  {
   "cell_type": "code",
   "execution_count": 30,
   "id": "586e3ae9-5b60-4879-9086-d5ed9ff52ddf",
   "metadata": {},
   "outputs": [],
   "source": [
    "impute.fit(df.iloc[:,2:3].values)\n",
    "df.iloc[:,2:3] = impute.transform(df.iloc[:,2:3].values)"
   ]
  },
  {
   "cell_type": "code",
   "execution_count": 32,
   "id": "9bb80a96-ba1e-47fc-b8a0-eea0f937e41c",
   "metadata": {},
   "outputs": [
    {
     "data": {
      "text/plain": [
       "App               0\n",
       "Category          0\n",
       "Rating            0\n",
       "Reviews           0\n",
       "Size              0\n",
       "Installs          0\n",
       "Type              1\n",
       "Price             0\n",
       "Content Rating    1\n",
       "Genres            0\n",
       "Last Updated      0\n",
       "Current Ver       8\n",
       "Android Ver       3\n",
       "dtype: int64"
      ]
     },
     "execution_count": 32,
     "metadata": {},
     "output_type": "execute_result"
    }
   ],
   "source": [
    "df.isnull().sum()"
   ]
  },
  {
   "cell_type": "code",
   "execution_count": null,
   "id": "1a3e0ef4-a8a8-4c4e-920f-9df1d70828b1",
   "metadata": {},
   "outputs": [],
   "source": []
  }
 ],
 "metadata": {
  "kernelspec": {
   "display_name": "Python 3 (ipykernel)",
   "language": "python",
   "name": "python3"
  },
  "language_info": {
   "codemirror_mode": {
    "name": "ipython",
    "version": 3
   },
   "file_extension": ".py",
   "mimetype": "text/x-python",
   "name": "python",
   "nbconvert_exporter": "python",
   "pygments_lexer": "ipython3",
   "version": "3.12.2"
  }
 },
 "nbformat": 4,
 "nbformat_minor": 5
}
