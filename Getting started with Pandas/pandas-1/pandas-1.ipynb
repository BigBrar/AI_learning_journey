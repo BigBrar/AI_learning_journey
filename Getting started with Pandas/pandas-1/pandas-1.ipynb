{
 "cells": [
  {
   "cell_type": "code",
   "execution_count": 19,
   "id": "0d4a594f-5568-46f5-85b0-c53dd118527c",
   "metadata": {},
   "outputs": [],
   "source": [
    "# all details can be refetched from - https://www.geeksforgeeks.org/batch/data-science-6/track/getting-started-with-pandas-ds5/article/Njg2OA%3D%3D\n",
    "import pandas as pd\n",
    "import numpy as np"
   ]
  },
  {
   "cell_type": "code",
   "execution_count": 20,
   "id": "20f83819-dcef-4c65-bf19-0a4c53359fac",
   "metadata": {},
   "outputs": [],
   "source": [
    "lst = [1,2,3,4,5,6,7,8]"
   ]
  },
  {
   "cell_type": "code",
   "execution_count": 21,
   "id": "7fb9adef-b6f6-4ad1-9994-fbeda1e4fd89",
   "metadata": {},
   "outputs": [
    {
     "data": {
      "text/plain": [
       "array([1, 2, 3, 4, 5, 6, 7, 8])"
      ]
     },
     "execution_count": 21,
     "metadata": {},
     "output_type": "execute_result"
    }
   ],
   "source": [
    "np.array(lst)"
   ]
  },
  {
   "cell_type": "code",
   "execution_count": 22,
   "id": "0d792c72-0de1-4474-8981-5103851db9f7",
   "metadata": {},
   "outputs": [
    {
     "data": {
      "text/plain": [
       "0    1\n",
       "1    2\n",
       "2    3\n",
       "3    4\n",
       "4    5\n",
       "5    6\n",
       "6    7\n",
       "7    8\n",
       "dtype: int64"
      ]
     },
     "execution_count": 22,
     "metadata": {},
     "output_type": "execute_result"
    }
   ],
   "source": [
    "pd.Series(lst)  #converting the list to pandas series"
   ]
  },
  {
   "cell_type": "code",
   "execution_count": 31,
   "id": "ae534cce-d063-480e-9d16-757e16b23b59",
   "metadata": {},
   "outputs": [],
   "source": [
    "df = pd.DataFrame([[1,2,3,4,5,6],[1,2,3,4,5,6],[1,2,3,4,5,6]], columns=(['A','B','C','D','E','F']))  \n",
    "#converting a list of lists to dataframe and storing it to \"df\""
   ]
  },
  {
   "cell_type": "code",
   "execution_count": 33,
   "id": "673b22bb-8916-42fe-9168-3e4db86ad7b9",
   "metadata": {},
   "outputs": [
    {
     "data": {
      "text/plain": [
       "pandas.core.frame.DataFrame"
      ]
     },
     "execution_count": 33,
     "metadata": {},
     "output_type": "execute_result"
    }
   ],
   "source": [
    "type(df)  #it's of type dataframe"
   ]
  },
  {
   "cell_type": "code",
   "execution_count": 35,
   "id": "fc1c0e05-0f86-4c34-80e7-3033e4a3b10a",
   "metadata": {},
   "outputs": [
    {
     "data": {
      "text/plain": [
       "<IntegerArray>\n",
       "[1, 2, 3, 4, 5, 6, 7, 8]\n",
       "Length: 8, dtype: Int64"
      ]
     },
     "execution_count": 35,
     "metadata": {},
     "output_type": "execute_result"
    }
   ],
   "source": [
    "pd. #pressing TAB after the . will show all the functions, classes and methods available\n",
    "np.array() #pressing SHIFT+TAB inside the bracket will show how to use that particular method..."
   ]
  },
  {
   "cell_type": "code",
   "execution_count": 39,
   "id": "1d028317-4499-4973-ae0a-8b0cb044b0da",
   "metadata": {},
   "outputs": [
    {
     "data": {
      "text/plain": [
       "0    2\n",
       "1    2\n",
       "2    2\n",
       "Name: B, dtype: int64"
      ]
     },
     "execution_count": 39,
     "metadata": {},
     "output_type": "execute_result"
    }
   ],
   "source": [
    "df['B']"
   ]
  },
  {
   "cell_type": "code",
   "execution_count": null,
   "id": "9af5d81d-7d14-4aa3-b886-9ee139894e30",
   "metadata": {},
   "outputs": [],
   "source": []
  }
 ],
 "metadata": {
  "kernelspec": {
   "display_name": "Python 3 (ipykernel)",
   "language": "python",
   "name": "python3"
  },
  "language_info": {
   "codemirror_mode": {
    "name": "ipython",
    "version": 3
   },
   "file_extension": ".py",
   "mimetype": "text/x-python",
   "name": "python",
   "nbconvert_exporter": "python",
   "pygments_lexer": "ipython3",
   "version": "3.12.2"
  }
 },
 "nbformat": 4,
 "nbformat_minor": 5
}
