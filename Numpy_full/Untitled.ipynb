{
 "cells": [
  {
   "cell_type": "code",
   "execution_count": 1,
   "id": "e481a0c8-eea8-4ed9-9a36-f701fae2ea0c",
   "metadata": {},
   "outputs": [],
   "source": [
    "import numpy as np"
   ]
  },
  {
   "cell_type": "code",
   "execution_count": 3,
   "id": "5e13de0c-f666-4dc8-bec2-1b1dd724a202",
   "metadata": {},
   "outputs": [
    {
     "data": {
      "text/plain": [
       "numpy.ndarray"
      ]
     },
     "execution_count": 3,
     "metadata": {},
     "output_type": "execute_result"
    }
   ],
   "source": [
    "#converting list to array - \n",
    "lst = [1,2,3,4,5,6,7,8,9]\n",
    "arr = np.array(lst)\n",
    "type(arr)"
   ]
  },
  {
   "cell_type": "code",
   "execution_count": 6,
   "id": "3fc8532d-8104-426f-acc3-ad8be83116ad",
   "metadata": {},
   "outputs": [
    {
     "data": {
      "text/plain": [
       "array([[1, 2, 3, 4, 5, 6, 7, 8, 9]])"
      ]
     },
     "execution_count": 6,
     "metadata": {},
     "output_type": "execute_result"
    }
   ],
   "source": [
    "np.array(lst,ndmin=2)"
   ]
  },
  {
   "cell_type": "markdown",
   "id": "6a4c9f3c-1a67-4112-b19a-270dea1c128b",
   "metadata": {},
   "source": [
    "### Arrange - \n",
    "give it a start, stop, step values"
   ]
  },
  {
   "cell_type": "code",
   "execution_count": 12,
   "id": "be0f5d4f-28c2-456a-b019-b86df820c4f4",
   "metadata": {},
   "outputs": [
    {
     "data": {
      "text/plain": [
       "array([1, 3, 5, 7, 9])"
      ]
     },
     "execution_count": 12,
     "metadata": {},
     "output_type": "execute_result"
    }
   ],
   "source": [
    "np.arange(1,10)\n",
    "np.arange(1,10,2) #here we defined 2 so data will have 2 steps at a time.\n",
    "\n",
    "#it does the same thing as following - \n",
    "# for i in range(10):print(i)"
   ]
  },
  {
   "cell_type": "markdown",
   "id": "7fae2127-feb1-471b-bf2f-e34a4a95185c",
   "metadata": {},
   "source": [
    "### Size function\n",
    "- arr.size tells the size of the whole array\n",
    "- np.size passed with 0 tells no. of rows\n",
    "- np.size passed with 1 tells no. of columns"
   ]
  },
  {
   "cell_type": "code",
   "execution_count": 17,
   "id": "22b23ebc-e4cc-452b-b442-7df7f569f8f3",
   "metadata": {},
   "outputs": [
    {
     "name": "stdout",
     "output_type": "stream",
     "text": [
      "Total: 12\n",
      "Rows:  4\n",
      "Columns:  3\n"
     ]
    }
   ],
   "source": [
    "arr = np.array([[1,2,3],[4,5,6],[7,8,9],[1,2,3]])\n",
    "print('Total:',arr.size)\n",
    "print(\"Rows: \",np.size(arr,0))\n",
    "print(\"Columns: \",np.size(arr,1))"
   ]
  },
  {
   "cell_type": "markdown",
   "id": "e52b1da3-778f-4d37-b91b-7b54fb9cad6e",
   "metadata": {},
   "source": [
    "### Shape -"
   ]
  },
  {
   "cell_type": "code",
   "execution_count": 20,
   "id": "c96ef4e1-d7ab-4f70-b11a-ff060d995c59",
   "metadata": {},
   "outputs": [
    {
     "data": {
      "text/plain": [
       "(4, 3)"
      ]
     },
     "execution_count": 20,
     "metadata": {},
     "output_type": "execute_result"
    }
   ],
   "source": [
    "arr.shape \n",
    "# alternatively you can also use np.size(arr,0) np.size(arr,1)"
   ]
  },
  {
   "cell_type": "markdown",
   "id": "81f83a2a-387f-4ca8-b59a-cf6f46f5fc67",
   "metadata": {},
   "source": [
    "### Dtype - "
   ]
  },
  {
   "cell_type": "code",
   "execution_count": 25,
   "id": "13beed08-cb20-42c0-ac6f-d299d1a7d5ff",
   "metadata": {},
   "outputs": [
    {
     "data": {
      "text/plain": [
       "dtype('float64')"
      ]
     },
     "execution_count": 25,
     "metadata": {},
     "output_type": "execute_result"
    }
   ],
   "source": [
    "arr.dtype\n",
    "arr2 = np.array([1.2,3.1,2.2])\n",
    "arr2.dtype"
   ]
  },
  {
   "cell_type": "markdown",
   "id": "237e7e1d-1e52-45de-9b3a-4d150c82fb4d",
   "metadata": {},
   "source": [
    "### ndim -\n",
    "tells the number of dimensions an array has."
   ]
  },
  {
   "cell_type": "code",
   "execution_count": 31,
   "id": "862f0211-154f-4a63-9051-45f60db57613",
   "metadata": {},
   "outputs": [
    {
     "data": {
      "text/plain": [
       "2"
      ]
     },
     "execution_count": 31,
     "metadata": {},
     "output_type": "execute_result"
    }
   ],
   "source": [
    "arr2.ndim\n",
    "arr.ndim"
   ]
  },
  {
   "cell_type": "markdown",
   "id": "23c73f52-37d4-4de2-9907-cbfd9f7a95c9",
   "metadata": {},
   "source": [
    "### np.zeros - "
   ]
  },
  {
   "cell_type": "code",
   "execution_count": 35,
   "id": "36b1f79a-5855-4074-b71f-8e7c3ba367e3",
   "metadata": {},
   "outputs": [
    {
     "data": {
      "text/plain": [
       "array([[0, 0, 0, 0, 0],\n",
       "       [0, 0, 0, 0, 0],\n",
       "       [0, 0, 0, 0, 0]])"
      ]
     },
     "execution_count": 35,
     "metadata": {},
     "output_type": "execute_result"
    }
   ],
   "source": [
    "np.zeros(shape=(3,5),dtype=int) #rows = 3 columns = 5"
   ]
  },
  {
   "cell_type": "markdown",
   "id": "f0ec1808-8927-4ef6-b53a-0a13f82d60aa",
   "metadata": {},
   "source": [
    "### np.ones - "
   ]
  },
  {
   "cell_type": "code",
   "execution_count": 36,
   "id": "c3fd3275-d178-40cc-a92e-fa7719d7ccfc",
   "metadata": {},
   "outputs": [
    {
     "data": {
      "text/plain": [
       "array([[1, 1, 1, 1, 1],\n",
       "       [1, 1, 1, 1, 1],\n",
       "       [1, 1, 1, 1, 1]])"
      ]
     },
     "execution_count": 36,
     "metadata": {},
     "output_type": "execute_result"
    }
   ],
   "source": [
    "np.ones(shape=(3,5),dtype=int) #rows = 3 columns = 5"
   ]
  },
  {
   "cell_type": "markdown",
   "id": "ba3d95bf-a1b3-496e-bffa-67bac8b31466",
   "metadata": {},
   "source": [
    "### np.random.randint - "
   ]
  },
  {
   "cell_type": "code",
   "execution_count": 40,
   "id": "27e5d3fa-67b2-4b58-ba41-e5871afd890e",
   "metadata": {},
   "outputs": [
    {
     "data": {
      "text/plain": [
       "array([9, 1, 2, 5, 7, 1, 5, 4, 6, 4], dtype=int32)"
      ]
     },
     "execution_count": 40,
     "metadata": {},
     "output_type": "execute_result"
    }
   ],
   "source": [
    "np.random.randint(low = 1, high = 10, size = 10)"
   ]
  },
  {
   "cell_type": "markdown",
   "id": "61741ab1-3029-4712-973d-0a1760e31207",
   "metadata": {},
   "source": [
    "### reshape - "
   ]
  },
  {
   "cell_type": "code",
   "execution_count": 43,
   "id": "2742a570-712a-4a60-b7ea-9526d886f635",
   "metadata": {},
   "outputs": [
    {
     "data": {
      "text/plain": [
       "array([[1, 2, 3, 4],\n",
       "       [5, 6, 7, 8],\n",
       "       [9, 1, 2, 3]])"
      ]
     },
     "execution_count": 43,
     "metadata": {},
     "output_type": "execute_result"
    }
   ],
   "source": [
    "arr.shape\n",
    "arr.reshape(3,4)"
   ]
  },
  {
   "cell_type": "markdown",
   "id": "8e2c32bc-841f-4786-9dbc-e46dd4fc7491",
   "metadata": {},
   "source": [
    "### flatten - \n",
    "the data of all the rows is shifted into a single row."
   ]
  },
  {
   "cell_type": "code",
   "execution_count": 45,
   "id": "11880264-8829-4a06-b6a3-3db5f7d2e389",
   "metadata": {},
   "outputs": [
    {
     "data": {
      "text/plain": [
       "array([1, 2, 3, 4, 5, 6, 7, 8, 9, 1, 2, 3])"
      ]
     },
     "execution_count": 45,
     "metadata": {},
     "output_type": "execute_result"
    }
   ],
   "source": [
    "arr.flatten()"
   ]
  },
  {
   "cell_type": "markdown",
   "id": "5b84f6b7-2608-408c-9a70-c6cb1fdafaf9",
   "metadata": {},
   "source": [
    "### copy - "
   ]
  },
  {
   "cell_type": "code",
   "execution_count": 52,
   "id": "f0a22347-6417-4ccc-8297-c1da43e0bd69",
   "metadata": {},
   "outputs": [
    {
     "name": "stdout",
     "output_type": "stream",
     "text": [
      "id of previous array 2439747393008\n",
      "id of new array 2439747393008\n",
      "--------------------\n",
      "id of previous array 2439747393008\n",
      "id of new array 2439748468144\n"
     ]
    }
   ],
   "source": [
    "arr2 = arr\n",
    "print('id of previous array',id(arr))\n",
    "print('id of new array',id(arr2))\n",
    "print(20*'-')\n",
    "arr2 = np.copy(arr)\n",
    "print('id of previous array',id(arr))\n",
    "print('id of new array',id(arr2))"
   ]
  },
  {
   "cell_type": "markdown",
   "id": "30fb66a0-a896-4a55-94a8-cd02bc245905",
   "metadata": {},
   "source": [
    "- arr.min\n",
    "- arr.max\n",
    "- arr.sum"
   ]
  },
  {
   "cell_type": "code",
   "execution_count": 55,
   "id": "f74a4873-5323-49a3-803c-e4db8ee8074e",
   "metadata": {},
   "outputs": [
    {
     "name": "stdout",
     "output_type": "stream",
     "text": [
      "Min:1\n",
      "Max:9\n",
      "Sum:51\n"
     ]
    }
   ],
   "source": [
    "print(f'Min:{arr.min()}')\n",
    "print(f'Max:{arr.max()}')\n",
    "print(f'Sum:{arr.sum()}')"
   ]
  },
  {
   "cell_type": "markdown",
   "id": "52581e15-97c9-431c-901c-bde185500962",
   "metadata": {},
   "source": [
    "### Sorting function -"
   ]
  },
  {
   "cell_type": "code",
   "execution_count": 58,
   "id": "41365b80-3494-4246-839e-f9fb97abecd1",
   "metadata": {},
   "outputs": [
    {
     "data": {
      "text/plain": [
       "array([1, 2, 3, 4, 4, 5])"
      ]
     },
     "execution_count": 58,
     "metadata": {},
     "output_type": "execute_result"
    }
   ],
   "source": [
    "arr2 = np.array([3,4,2,5,1,4])\n",
    "np.sort(arr2)"
   ]
  },
  {
   "cell_type": "markdown",
   "id": "45712f46-da40-4e97-92f1-7ece6239e681",
   "metadata": {},
   "source": [
    "### Mean, Variance and Standard Deviation - "
   ]
  },
  {
   "cell_type": "code",
   "execution_count": 62,
   "id": "ccf897ad-05ef-404d-9474-e7e7e2b6830f",
   "metadata": {},
   "outputs": [
    {
     "name": "stdout",
     "output_type": "stream",
     "text": [
      "4.25\n",
      "6.854166666666667\n",
      "2.6180463454008347\n"
     ]
    }
   ],
   "source": [
    "print(arr.mean())\n",
    "print(arr.var())\n",
    "print(arr.std())"
   ]
  },
  {
   "cell_type": "code",
   "execution_count": 68,
   "id": "ae4de367-23f9-45c5-8ff2-58846bbd35dc",
   "metadata": {},
   "outputs": [
    {
     "data": {
      "text/plain": [
       "array([ True, False, False, False,  True, False, False,  True, False,\n",
       "       False, False, False, False, False, False, False, False,  True,\n",
       "       False, False])"
      ]
     },
     "execution_count": 68,
     "metadata": {},
     "output_type": "execute_result"
    }
   ],
   "source": [
    "arr3 = np.random.randint(1,50,20)\n",
    "arr3<12 #true for all the arrays smaller than 12"
   ]
  },
  {
   "cell_type": "markdown",
   "id": "ff68a0ff-8f12-40f2-b65b-e69ddb46a6de",
   "metadata": {},
   "source": [
    "### Concatenation - \n",
    "remember that both the arrays should have same dimensions and data format. axis 0 will merge row wise and axis 1 will merge column wise"
   ]
  },
  {
   "cell_type": "code",
   "execution_count": 79,
   "id": "48fa33b1-29f2-401f-8bfe-3b093a7daeae",
   "metadata": {},
   "outputs": [
    {
     "data": {
      "text/plain": [
       "array([[1, 2, 3],\n",
       "       [4, 5, 6],\n",
       "       [7, 8, 9],\n",
       "       [1, 2, 3],\n",
       "       [2, 3, 3],\n",
       "       [2, 3, 3],\n",
       "       [2, 3, 3]])"
      ]
     },
     "execution_count": 79,
     "metadata": {},
     "output_type": "execute_result"
    }
   ],
   "source": [
    "# np.concatenate((arr,arr2),axis=1)\n",
    "arr4 = np.array([[2,3,3],[2,3,3],[2,3,3]])\n",
    "np.concatenate((arr,arr4),axis=0)"
   ]
  },
  {
   "cell_type": "markdown",
   "id": "cc412f97-341a-454a-9e96-4bf4c6547538",
   "metadata": {},
   "source": [
    "### VStack and HStack - "
   ]
  },
  {
   "cell_type": "code",
   "execution_count": 89,
   "id": "9bf28409-b65b-4b92-8976-2fc9e5e3153c",
   "metadata": {},
   "outputs": [
    {
     "data": {
      "text/plain": [
       "array([[ 1,  2,  3, 10,  5, 18],\n",
       "       [ 4,  5,  6,  6, 19,  2],\n",
       "       [ 7,  8,  9, 17,  4, 13],\n",
       "       [ 1,  2,  3, 18, 11, 12]])"
      ]
     },
     "execution_count": 89,
     "metadata": {},
     "output_type": "execute_result"
    }
   ],
   "source": [
    "arr4 = np.random.randint(1,20,(4,3))\n",
    "np.hstack((arr,arr4))"
   ]
  },
  {
   "cell_type": "code",
   "execution_count": 90,
   "id": "cfa370da-99ba-4995-91ec-fedaf7568597",
   "metadata": {},
   "outputs": [
    {
     "data": {
      "text/plain": [
       "array([[ 1,  2,  3],\n",
       "       [ 4,  5,  6],\n",
       "       [ 7,  8,  9],\n",
       "       [ 1,  2,  3],\n",
       "       [10,  5, 18],\n",
       "       [ 6, 19,  2],\n",
       "       [17,  4, 13],\n",
       "       [18, 11, 12]])"
      ]
     },
     "execution_count": 90,
     "metadata": {},
     "output_type": "execute_result"
    }
   ],
   "source": [
    "np.vstack((arr,arr4))"
   ]
  },
  {
   "cell_type": "markdown",
   "id": "0df4bc67-275a-47d2-90b5-0bb597cb74d4",
   "metadata": {},
   "source": [
    "### Splitting arrays - "
   ]
  },
  {
   "cell_type": "code",
   "execution_count": 103,
   "id": "eba668ab-8fe8-4673-9bd4-fcae097999a9",
   "metadata": {},
   "outputs": [
    {
     "data": {
      "text/plain": [
       "[array([[1, 2, 3],\n",
       "        [4, 5, 6]]),\n",
       " array([[7, 8, 9],\n",
       "        [1, 2, 3]])]"
      ]
     },
     "execution_count": 103,
     "metadata": {},
     "output_type": "execute_result"
    }
   ],
   "source": [
    "np.vsplit(arr,2) #splits the arrays in two parts "
   ]
  },
  {
   "cell_type": "code",
   "execution_count": 96,
   "id": "6a8896af-f522-4fb9-8ead-a24cd2a93aa5",
   "metadata": {},
   "outputs": [
    {
     "data": {
      "text/plain": [
       "array([[1, 2, 3],\n",
       "       [4, 5, 6],\n",
       "       [7, 8, 9],\n",
       "       [1, 2, 3]])"
      ]
     },
     "execution_count": 96,
     "metadata": {},
     "output_type": "execute_result"
    }
   ],
   "source": []
  },
  {
   "cell_type": "markdown",
   "id": "e22e1c40-c7f7-4a2b-aff9-cc8051845a33",
   "metadata": {},
   "source": [
    "### Turning pics into numpy arrays - "
   ]
  },
  {
   "cell_type": "code",
   "execution_count": 108,
   "id": "fefafc56-0229-459c-942b-8f4a70d24eef",
   "metadata": {},
   "outputs": [
    {
     "ename": "SyntaxError",
     "evalue": "invalid syntax (2541680147.py, line 1)",
     "output_type": "error",
     "traceback": [
      "\u001b[1;36m  Cell \u001b[1;32mIn[108], line 1\u001b[1;36m\u001b[0m\n\u001b[1;33m    <img src='thar.jpg'>\u001b[0m\n\u001b[1;37m    ^\u001b[0m\n\u001b[1;31mSyntaxError\u001b[0m\u001b[1;31m:\u001b[0m invalid syntax\n"
     ]
    }
   ],
   "source": [
    "<img src='thar.jpg'>"
   ]
  },
  {
   "cell_type": "code",
   "execution_count": 110,
   "id": "023433de-e6fc-478a-87dd-168652ea3997",
   "metadata": {},
   "outputs": [],
   "source": [
    "from matplotlib.image import imread"
   ]
  },
  {
   "cell_type": "code",
   "execution_count": 111,
   "id": "44085394-4b2a-4b1d-8efc-ee53209068ec",
   "metadata": {},
   "outputs": [],
   "source": [
    "img = imread('thar.jpg')"
   ]
  },
  {
   "cell_type": "code",
   "execution_count": 121,
   "id": "c89bb258-d0ab-408a-88b6-a7f0743ad870",
   "metadata": {},
   "outputs": [
    {
     "data": {
      "text/plain": [
       "(1280, 960, 3)"
      ]
     },
     "execution_count": 121,
     "metadata": {},
     "output_type": "execute_result"
    }
   ],
   "source": [
    "img.shape #1280 is pixels in height, 960 are pixels in width and 3 is the RGB channel"
   ]
  },
  {
   "cell_type": "code",
   "execution_count": 125,
   "id": "b8cfa3e0-10b0-4754-b8eb-7eea874dcdf2",
   "metadata": {},
   "outputs": [
    {
     "data": {
      "text/plain": [
       "np.uint8(0)"
      ]
     },
     "execution_count": 125,
     "metadata": {},
     "output_type": "execute_result"
    }
   ],
   "source": [
    "np.min(img)"
   ]
  },
  {
   "cell_type": "code",
   "execution_count": 128,
   "id": "239b46b7-256b-4e37-913d-61d0d5098579",
   "metadata": {},
   "outputs": [
    {
     "data": {
      "text/plain": [
       "3686400"
      ]
     },
     "execution_count": 128,
     "metadata": {},
     "output_type": "execute_result"
    }
   ],
   "source": [
    "img.size"
   ]
  },
  {
   "cell_type": "code",
   "execution_count": null,
   "id": "3c9434e4-211e-4e71-937f-ae280c076732",
   "metadata": {},
   "outputs": [],
   "source": []
  },
  {
   "cell_type": "code",
   "execution_count": null,
   "id": "b20f9afd-1f46-4a07-8c96-29241bc4a147",
   "metadata": {},
   "outputs": [],
   "source": []
  }
 ],
 "metadata": {
  "kernelspec": {
   "display_name": "Python 3 (ipykernel)",
   "language": "python",
   "name": "python3"
  },
  "language_info": {
   "codemirror_mode": {
    "name": "ipython",
    "version": 3
   },
   "file_extension": ".py",
   "mimetype": "text/x-python",
   "name": "python",
   "nbconvert_exporter": "python",
   "pygments_lexer": "ipython3",
   "version": "3.12.2"
  }
 },
 "nbformat": 4,
 "nbformat_minor": 5
}
