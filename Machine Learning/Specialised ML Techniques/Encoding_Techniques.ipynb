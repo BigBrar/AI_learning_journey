{
  "nbformat": 4,
  "nbformat_minor": 0,
  "metadata": {
    "colab": {
      "provenance": []
    },
    "kernelspec": {
      "name": "python3",
      "display_name": "Python 3"
    },
    "language_info": {
      "name": "python"
    }
  },
  "cells": [
    {
      "cell_type": "markdown",
      "source": [
        "One Hot encoding"
      ],
      "metadata": {
        "id": "nE29wyNEZIDD"
      }
    },
    {
      "cell_type": "code",
      "execution_count": 7,
      "metadata": {
        "colab": {
          "base_uri": "https://localhost:8080/"
        },
        "id": "fxlumxY8YRkd",
        "outputId": "864c5ef3-9fd5-4982-fc58-0fc2db477342"
      },
      "outputs": [
        {
          "output_type": "stream",
          "name": "stdout",
          "text": [
            "   color_blue  color_green  color_red\n",
            "0       False        False       True\n",
            "1        True        False      False\n",
            "2       False         True      False\n",
            "3        True        False      False\n",
            "4       False        False       True\n"
          ]
        }
      ],
      "source": [
        "import pandas as pd\n",
        "data = {'color':['red', 'blue', 'green', 'blue', 'red']}\n",
        "dataframe = pd.DataFrame(data)\n",
        "\n",
        "one_hot_encoded_df = pd.get_dummies(dataframe, columns = ['color'])\n",
        "print(one_hot_encoded_df)"
      ]
    },
    {
      "cell_type": "markdown",
      "source": [
        "Label encoding"
      ],
      "metadata": {
        "id": "i7MAYL5mZKTb"
      }
    },
    {
      "cell_type": "code",
      "source": [
        "from sklearn.preprocessing import LabelEncoder\n",
        "\n",
        "label_encoder = LabelEncoder()\n",
        "data = {'Education': ['B.Tech', 'M.Tech', 'Ph.D']}\n",
        "dataframe = pd.DataFrame(data)\n",
        "dataframe['Education'] = label_encoder.fit_transform(dataframe['Education'])\n",
        "print(dataframe)"
      ],
      "metadata": {
        "colab": {
          "base_uri": "https://localhost:8080/"
        },
        "id": "ImJ1W8gvYo2D",
        "outputId": "8bedeb1b-7074-48d9-a0ab-72df75ab5eaa"
      },
      "execution_count": 4,
      "outputs": [
        {
          "output_type": "stream",
          "name": "stdout",
          "text": [
            "   Education\n",
            "0          0\n",
            "1          1\n",
            "2          2\n"
          ]
        }
      ]
    },
    {
      "cell_type": "markdown",
      "source": [
        "as you can see above ^\n",
        "\n",
        "B.tech = 0\n",
        "\n",
        "M.tech = 1\n",
        "\n",
        "Ph.D = 2"
      ],
      "metadata": {
        "id": "5BJJHtu3ZQ82"
      }
    },
    {
      "cell_type": "markdown",
      "source": [
        "**Understanding the Dummy Variable Trap**\n",
        "\n",
        "One-Hot Encoding, while effective, can lead to a problem known as the Dummy Variable Trap. This occurs when the categories are highly correlated, leading to multicollinearity which can confuse the model.\n",
        "\n",
        "For example, if you have three colors - red, green and blue - creating three separate columns for these colors may introduce redundancy. Knowing the values of two colors can automatically determine the value of the third. To avoid this, we can drop one of the columns:"
      ],
      "metadata": {
        "id": "ywejkFldZk16"
      }
    },
    {
      "cell_type": "code",
      "source": [
        "one_hot_encoded_df = pd.get_dummies(dataframe, columns=['color'], drop_first=True)\n",
        "print(one_hot_encoded_df)"
      ],
      "metadata": {
        "colab": {
          "base_uri": "https://localhost:8080/"
        },
        "id": "ZL2BpaeMZMJW",
        "outputId": "812db987-8b96-4a7c-dbcd-2476bc3db2bd"
      },
      "execution_count": 8,
      "outputs": [
        {
          "output_type": "stream",
          "name": "stdout",
          "text": [
            "   color_green  color_red\n",
            "0        False       True\n",
            "1        False      False\n",
            "2         True      False\n",
            "3        False      False\n",
            "4        False       True\n"
          ]
        }
      ]
    },
    {
      "cell_type": "code",
      "source": [],
      "metadata": {
        "id": "ZalMGN5wZs3W"
      },
      "execution_count": null,
      "outputs": []
    }
  ]
}