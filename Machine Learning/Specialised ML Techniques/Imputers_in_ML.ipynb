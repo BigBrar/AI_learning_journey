{
  "nbformat": 4,
  "nbformat_minor": 0,
  "metadata": {
    "colab": {
      "provenance": []
    },
    "kernelspec": {
      "name": "python3",
      "display_name": "Python 3"
    },
    "language_info": {
      "name": "python"
    }
  },
  "cells": [
    {
      "cell_type": "code",
      "execution_count": 1,
      "metadata": {
        "id": "0ZRvq_wQa8Ot"
      },
      "outputs": [],
      "source": [
        "import pandas as pd\n",
        "import numpy as np"
      ]
    },
    {
      "cell_type": "markdown",
      "source": [
        "We will create a dataset that has some missing values. This will help us understand how data imputation works. We'll have two columns: age and salary, with some missing values (represented as np.nan).\n",
        "\n",
        "\n",
        "\n",
        "\n"
      ],
      "metadata": {
        "id": "sdez1YnObCub"
      }
    },
    {
      "cell_type": "code",
      "source": [
        "data = {'age': [25, np.nan, 30, np.nan, 35],\n",
        "        'salary': [50000, 60000, np.nan, 90000, np.nan]}\n",
        "\n",
        "dataframe = pd.DataFrame(data)\n",
        "print(dataframe)"
      ],
      "metadata": {
        "colab": {
          "base_uri": "https://localhost:8080/"
        },
        "id": "iFxsqhQwa_Lr",
        "outputId": "6f5cf41d-b016-44e8-ce9a-418a06488018"
      },
      "execution_count": 2,
      "outputs": [
        {
          "output_type": "stream",
          "name": "stdout",
          "text": [
            "    age   salary\n",
            "0  25.0  50000.0\n",
            "1   NaN  60000.0\n",
            "2  30.0      NaN\n",
            "3   NaN  90000.0\n",
            "4  35.0      NaN\n"
          ]
        }
      ]
    },
    {
      "cell_type": "markdown",
      "source": [
        "One simple way to handle missing data is by replacing the missing values with the mean of the available data. This is straightforward and works well when the data is evenly distributed without outliers.\n",
        "\n",
        "\n",
        "\n",
        "\n"
      ],
      "metadata": {
        "id": "JGKv5-GJbFIS"
      }
    },
    {
      "cell_type": "code",
      "source": [
        "from sklearn.impute import SimpleImputer\n",
        "\n",
        "imputer = SimpleImputer(strategy='mean')\n",
        "imputed_data = imputer.fit_transform(dataframe)\n",
        "imputed_df = pd.DataFrame(imputed_data, columns=dataframe.columns)\n",
        "print(imputed_df)"
      ],
      "metadata": {
        "colab": {
          "base_uri": "https://localhost:8080/"
        },
        "id": "eHhH4UCobA8T",
        "outputId": "60720029-278b-4d90-c2a4-fcde98049977"
      },
      "execution_count": 3,
      "outputs": [
        {
          "output_type": "stream",
          "name": "stdout",
          "text": [
            "    age        salary\n",
            "0  25.0  50000.000000\n",
            "1  30.0  60000.000000\n",
            "2  30.0  66666.666667\n",
            "3  30.0  90000.000000\n",
            "4  35.0  66666.666667\n"
          ]
        }
      ]
    },
    {
      "cell_type": "markdown",
      "source": [
        "Imputation can also be done using the KNN (K-Nearest Neighbors) Imputer. This technique estimates the missing values based on the nearest neighbors in the data, providing a more context-aware imputation."
      ],
      "metadata": {
        "id": "txEYqaxmbLHg"
      }
    },
    {
      "cell_type": "code",
      "source": [
        "from sklearn.impute import KNNImputer\n",
        "\n",
        "imputer = KNNImputer(n_neighbors=2)\n",
        "imputed_data = imputer.fit_transform(dataframe)\n",
        "imputed_df = pd.DataFrame(imputed_data, columns=dataframe.columns)\n",
        "print(imputed_df)"
      ],
      "metadata": {
        "colab": {
          "base_uri": "https://localhost:8080/"
        },
        "id": "8bOT0SxIbG_e",
        "outputId": "5dbbd551-884c-4503-c41b-0f562f272eb0"
      },
      "execution_count": 4,
      "outputs": [
        {
          "output_type": "stream",
          "name": "stdout",
          "text": [
            "    age   salary\n",
            "0  25.0  50000.0\n",
            "1  25.0  60000.0\n",
            "2  30.0  50000.0\n",
            "3  25.0  90000.0\n",
            "4  35.0  50000.0\n"
          ]
        }
      ]
    },
    {
      "cell_type": "code",
      "source": [],
      "metadata": {
        "id": "lgkArg_IbMdQ"
      },
      "execution_count": null,
      "outputs": []
    }
  ]
}