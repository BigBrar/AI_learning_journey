{
  "nbformat": 4,
  "nbformat_minor": 0,
  "metadata": {
    "colab": {
      "provenance": [],
      "gpuType": "T4"
    },
    "kernelspec": {
      "name": "python3",
      "display_name": "Python 3"
    },
    "language_info": {
      "name": "python"
    },
    "accelerator": "GPU"
  },
  "cells": [
    {
      "cell_type": "code",
      "execution_count": 7,
      "metadata": {
        "id": "S3BfMESYv5Zc"
      },
      "outputs": [],
      "source": [
        "import pandas as pd\n",
        "import numpy as np\n",
        "import seaborn as sns\n",
        "import matplotlib.pyplot as plt\n",
        "import xgboost as xgb\n",
        "from sklearn.datasets import fetch_california_housing\n",
        "from sklearn.model_selection import train_test_split, GridSearchCV\n",
        "from sklearn.metrics import mean_squared_error\n",
        "from sklearn.ensemble import RandomForestRegressor, GradientBoostingRegressor\n",
        "import warnings\n",
        "\n",
        "# Ignore warnings\n",
        "warnings.filterwarnings(\"ignore\", category=DeprecationWarning)"
      ]
    },
    {
      "cell_type": "code",
      "source": [
        "california_housing = fetch_california_housing()\n",
        "X, y = california_housing.data, california_housing.target"
      ],
      "metadata": {
        "id": "pi9_PeRGwIpg"
      },
      "execution_count": 8,
      "outputs": []
    },
    {
      "cell_type": "code",
      "source": [
        "X_train, X_test, y_train, y_test = train_test_split(X, y, test_size=0.2, random_state=42)"
      ],
      "metadata": {
        "id": "4AJmtSnMwJv8"
      },
      "execution_count": 9,
      "outputs": []
    },
    {
      "cell_type": "code",
      "source": [
        "xgb_regressor = xgb.XGBRegressor(objective='reg:squarederror', random_state=42)\n",
        "rf_regressor = RandomForestRegressor(random_state=42)\n",
        "gb_regressor = GradientBoostingRegressor(random_state=42)"
      ],
      "metadata": {
        "id": "xF_RW9jywKzC"
      },
      "execution_count": 10,
      "outputs": []
    },
    {
      "cell_type": "code",
      "source": [
        "model_xgb = xgb_regressor.fit(X_train, y_train)\n",
        "model_rf = rf_regressor.fit(X_train, y_train)\n",
        "model_gb = gb_regressor.fit(X_train, y_train)"
      ],
      "metadata": {
        "id": "gfQWUdVhwMXO"
      },
      "execution_count": 11,
      "outputs": []
    },
    {
      "cell_type": "code",
      "source": [
        "y_pred_xgb = model_xgb.predict(X_test)\n",
        "y_pred_rf = model_rf.predict(X_test)\n",
        "y_pred_gb = model_gb.predict(X_test)"
      ],
      "metadata": {
        "id": "n2QLLzBcwNoD"
      },
      "execution_count": 13,
      "outputs": []
    },
    {
      "cell_type": "code",
      "source": [
        "mse_xgb = mean_squared_error(y_test, y_pred_xgb)\n",
        "mse_rf = mean_squared_error(y_test, y_pred_rf)\n",
        "mse_gb = mean_squared_error(y_test, y_pred_gb)\n",
        "\n",
        "print(\"Mean Squared Error for XGBRegressor: \", mse_xgb)\n",
        "print(\"Mean Squared Error for RandomForestRegressor: \", mse_rf)\n",
        "print(\"Mean Squared Error for GradientBoostingRegressor: \", mse_gb)"
      ],
      "metadata": {
        "colab": {
          "base_uri": "https://localhost:8080/"
        },
        "id": "FLtbsGslxDsT",
        "outputId": "864f1c6a-c013-47d5-df91-315c1be7c0b9"
      },
      "execution_count": 14,
      "outputs": [
        {
          "output_type": "stream",
          "name": "stdout",
          "text": [
            "Mean Squared Error for XGBRegressor:  0.2225899267544737\n",
            "Mean Squared Error for RandomForestRegressor:  0.2553684927247781\n",
            "Mean Squared Error for GradientBoostingRegressor:  0.2939973248643864\n"
          ]
        }
      ]
    },
    {
      "cell_type": "code",
      "source": [],
      "metadata": {
        "id": "hrBqUAMXxE6v"
      },
      "execution_count": null,
      "outputs": []
    }
  ]
}