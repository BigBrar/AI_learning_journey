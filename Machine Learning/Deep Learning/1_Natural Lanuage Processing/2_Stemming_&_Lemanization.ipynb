{
  "nbformat": 4,
  "nbformat_minor": 0,
  "metadata": {
    "colab": {
      "provenance": []
    },
    "kernelspec": {
      "name": "python3",
      "display_name": "Python 3"
    },
    "language_info": {
      "name": "python"
    }
  },
  "cells": [
    {
      "cell_type": "code",
      "execution_count": 1,
      "metadata": {
        "colab": {
          "base_uri": "https://localhost:8080/"
        },
        "id": "mAqnBtLAJL11",
        "outputId": "475868c8-cb9a-44e7-fd72-ad36116aa011"
      },
      "outputs": [
        {
          "output_type": "stream",
          "name": "stderr",
          "text": [
            "[nltk_data] Downloading package wordnet to /root/nltk_data...\n",
            "[nltk_data] Downloading package omw-1.4 to /root/nltk_data...\n"
          ]
        },
        {
          "output_type": "execute_result",
          "data": {
            "text/plain": [
              "True"
            ]
          },
          "metadata": {},
          "execution_count": 1
        }
      ],
      "source": [
        "import nltk\n",
        "nltk.download('wordnet')\n",
        "nltk.download('omw-1.4')"
      ]
    },
    {
      "cell_type": "code",
      "source": [
        "from nltk.stem import WordNetLemmatizer, PorterStemmer\n",
        "stem=PorterStemmer()\n",
        "lem=WordNetLemmatizer()"
      ],
      "metadata": {
        "id": "BRZcc8a6JYAx"
      },
      "execution_count": 2,
      "outputs": []
    },
    {
      "cell_type": "markdown",
      "source": [
        "Lemanization"
      ],
      "metadata": {
        "id": "16ZTAGcDJbkN"
      }
    },
    {
      "cell_type": "code",
      "source": [
        "print(lem.lemmatize('change'))\n",
        "print(lem.lemmatize('changes'))\n",
        "print(lem.lemmatize('changed'))"
      ],
      "metadata": {
        "colab": {
          "base_uri": "https://localhost:8080/"
        },
        "id": "Z95tDp-lJZfN",
        "outputId": "dfd5ca7e-4b60-4649-9974-4f70587ef530"
      },
      "execution_count": 3,
      "outputs": [
        {
          "output_type": "stream",
          "name": "stdout",
          "text": [
            "change\n",
            "change\n",
            "changed\n"
          ]
        }
      ]
    },
    {
      "cell_type": "markdown",
      "source": [
        "Stemming"
      ],
      "metadata": {
        "id": "Pag8k0GZJfZh"
      }
    },
    {
      "cell_type": "code",
      "source": [
        "print(stem.stem('change'))\n",
        "print(stem.stem('changes'))\n",
        "print(stem.stem('changed'))"
      ],
      "metadata": {
        "colab": {
          "base_uri": "https://localhost:8080/"
        },
        "id": "BZsCoIiXJdn3",
        "outputId": "2bfd881e-1fa5-4349-9c3c-7fd62c8221b2"
      },
      "execution_count": 4,
      "outputs": [
        {
          "output_type": "stream",
          "name": "stdout",
          "text": [
            "chang\n",
            "chang\n",
            "chang\n"
          ]
        }
      ]
    },
    {
      "cell_type": "code",
      "source": [],
      "metadata": {
        "id": "weaLhSpaJgK8"
      },
      "execution_count": null,
      "outputs": []
    }
  ]
}