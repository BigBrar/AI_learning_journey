{
  "nbformat": 4,
  "nbformat_minor": 0,
  "metadata": {
    "colab": {
      "provenance": []
    },
    "kernelspec": {
      "name": "python3",
      "display_name": "Python 3"
    },
    "language_info": {
      "name": "python"
    }
  },
  "cells": [
    {
      "cell_type": "code",
      "execution_count": null,
      "metadata": {
        "colab": {
          "base_uri": "https://localhost:8080/"
        },
        "id": "qDNgwzD3SRRg",
        "outputId": "2db54f0d-6fc5-4edf-df68-5766fa4f4f95"
      },
      "outputs": [
        {
          "output_type": "stream",
          "name": "stdout",
          "text": [
            "True\n",
            "False\n"
          ]
        }
      ],
      "source": [
        "print('hello' in 'hello world')\n",
        "print('data' in 'hello world')"
      ]
    },
    {
      "cell_type": "code",
      "source": [
        "import re\n",
        "\n",
        "print(re.search('hello','hello world'))\n",
        "print(re.search('data','hello world'))"
      ],
      "metadata": {
        "colab": {
          "base_uri": "https://localhost:8080/"
        },
        "id": "WWV6hTdWS0-P",
        "outputId": "ba2d9e0d-96b7-4b2b-cab6-1d1a260afd34"
      },
      "execution_count": null,
      "outputs": [
        {
          "output_type": "stream",
          "name": "stdout",
          "text": [
            "<re.Match object; span=(0, 5), match='hello'>\n",
            "None\n"
          ]
        }
      ]
    },
    {
      "cell_type": "code",
      "source": [
        "s=re.search('hello','hello world')\n",
        "print(s.span())\n",
        "print(s.start())\n",
        "print(s.end())"
      ],
      "metadata": {
        "colab": {
          "base_uri": "https://localhost:8080/"
        },
        "id": "LNqfceQkS2TI",
        "outputId": "1694e094-a123-4baf-f67f-29d281954f6c"
      },
      "execution_count": null,
      "outputs": [
        {
          "output_type": "stream",
          "name": "stdout",
          "text": [
            "(0, 5)\n",
            "0\n",
            "5\n"
          ]
        }
      ]
    },
    {
      "cell_type": "code",
      "source": [
        "a = 'hello how are area are you ?'\n",
        "b = 'are'\n",
        "re.findall(b,a)"
      ],
      "metadata": {
        "colab": {
          "base_uri": "https://localhost:8080/"
        },
        "id": "tEJx-MrcS4O-",
        "outputId": "cd8c20f4-9952-4004-97eb-857a0f72afe2"
      },
      "execution_count": null,
      "outputs": [
        {
          "output_type": "execute_result",
          "data": {
            "text/plain": [
              "['are', 'are', 'are']"
            ]
          },
          "metadata": {},
          "execution_count": 4
        }
      ]
    },
    {
      "cell_type": "code",
      "source": [
        "for i in re.finditer('hello','hello world hello earth hello universe'):\n",
        "  print(i.span())"
      ],
      "metadata": {
        "colab": {
          "base_uri": "https://localhost:8080/"
        },
        "id": "386e7F1lTDcG",
        "outputId": "0762839d-6612-495c-d032-98862fca3492"
      },
      "execution_count": null,
      "outputs": [
        {
          "output_type": "stream",
          "name": "stdout",
          "text": [
            "(0, 5)\n",
            "(12, 17)\n",
            "(24, 29)\n"
          ]
        }
      ]
    },
    {
      "cell_type": "code",
      "source": [
        "txt1 = 'my telephone number is 834-4324-345'\n",
        "txt2 = 'my telephone number is 8344324345'\n",
        "pattern = '\\d{3}-\\d{4}-\\d{3}'\n",
        "print(re.search(pattern,txt1))\n",
        "print(re.search(pattern,txt2))"
      ],
      "metadata": {
        "colab": {
          "base_uri": "https://localhost:8080/"
        },
        "id": "fhAYqIiqTGB3",
        "outputId": "b383801e-05bb-48fc-e572-f73d9e4c6be1"
      },
      "execution_count": null,
      "outputs": [
        {
          "output_type": "stream",
          "name": "stdout",
          "text": [
            "<re.Match object; span=(23, 35), match='834-4324-345'>\n",
            "None\n"
          ]
        }
      ]
    },
    {
      "cell_type": "markdown",
      "source": [
        "For txt1 we got the pattern matched as \\d indicated digits and the number inside the parenthesis {} indicated the number of those digits which should be present in the txt\n",
        "\n",
        "For txt2 we got None because although the digits were present the ‘-‘ (hyphen) was not present between the digits so the pattern was not matched."
      ],
      "metadata": {
        "id": "mh0g0_EGUFXG"
      }
    },
    {
      "cell_type": "markdown",
      "source": [
        "If we want to display the specific number which we got by matching our pattern we can use the group function. Let’s see how it is working here"
      ],
      "metadata": {
        "id": "1_g9sH0SUI0w"
      }
    },
    {
      "cell_type": "code",
      "source": [
        "print(re.search(pattern,txt1).group())"
      ],
      "metadata": {
        "colab": {
          "base_uri": "https://localhost:8080/"
        },
        "id": "7hejtoRJTxS6",
        "outputId": "6374e031-2202-4621-fd27-482ceaa7c39d"
      },
      "execution_count": null,
      "outputs": [
        {
          "output_type": "stream",
          "name": "stdout",
          "text": [
            "834-4324-345\n"
          ]
        }
      ]
    },
    {
      "cell_type": "markdown",
      "source": [
        "so we got what we desired.!\n"
      ],
      "metadata": {
        "id": "178xMNVgUN8M"
      }
    },
    {
      "cell_type": "markdown",
      "source": [
        "# Pattern Matching with Alphanumeric"
      ],
      "metadata": {
        "id": "juNojed0XIKM"
      }
    },
    {
      "cell_type": "markdown",
      "source": [
        "An alphanumeric string is a string that contains only alphabets from a-z, A-Z and some numbers from 0-9.\n",
        "\n",
        "\n",
        "\n",
        "We have already seen how to search some patterns using Regular Expression. Let’s see how can we use Regular Expression for matching alphanumeric characters."
      ],
      "metadata": {
        "id": "LHVg8U5wXLFz"
      }
    },
    {
      "cell_type": "code",
      "source": [
        "print(re.findall('at','The rat sat on the mat and attached by a cat'))"
      ],
      "metadata": {
        "colab": {
          "base_uri": "https://localhost:8080/"
        },
        "id": "vExQ0Ix6UMSU",
        "outputId": "8cf01a87-bb1b-4966-cd32-901d4f14463f"
      },
      "execution_count": null,
      "outputs": [
        {
          "output_type": "stream",
          "name": "stdout",
          "text": [
            "['at', 'at', 'at', 'at', 'at']\n"
          ]
        }
      ]
    },
    {
      "cell_type": "markdown",
      "source": [
        "It is giving us all the ‘at’ present in the text.\n",
        "\n",
        "Now if we want to see one character before the pattern at we use the (‘.’) dot symbol. Let’s see an example"
      ],
      "metadata": {
        "id": "zDD_9gPvXfWa"
      }
    },
    {
      "cell_type": "code",
      "source": [
        "print(re.findall('.at','The rat sat on the mat and attached by a cat'))\n",
        "# the . before at means it will display the one word before 'at' like '.at' -> 'mat'"
      ],
      "metadata": {
        "colab": {
          "base_uri": "https://localhost:8080/"
        },
        "id": "Er9kZqAtXNd4",
        "outputId": "209c032b-7c09-4766-e2a0-b2bb5da0eccd"
      },
      "execution_count": null,
      "outputs": [
        {
          "output_type": "stream",
          "name": "stdout",
          "text": [
            "['rat', 'sat', 'mat', ' at', 'cat']\n"
          ]
        }
      ]
    },
    {
      "cell_type": "markdown",
      "source": [
        "Now to check the start and end Pattern we can use the ‘^’ symbol and ‘$’ respectively."
      ],
      "metadata": {
        "id": "PwkkBhnuX73X"
      }
    },
    {
      "cell_type": "code",
      "source": [
        "print(re.findall('\\d','4 is divisible by 2 and not by 3'))\n",
        "# basically finds all the digits or numbers from the string"
      ],
      "metadata": {
        "colab": {
          "base_uri": "https://localhost:8080/"
        },
        "id": "mMVM_LRnXhBH",
        "outputId": "d6c90057-cd27-4d6b-91c1-7c5d8d790426"
      },
      "execution_count": null,
      "outputs": [
        {
          "output_type": "stream",
          "name": "stdout",
          "text": [
            "['4', '2', '3']\n"
          ]
        }
      ]
    },
    {
      "cell_type": "code",
      "source": [
        "# Now let's check how to verify the starting and ending character\n",
        "print(re.findall('^\\d','4 is divisible by 2 and not by 3'))\n",
        "print(re.findall('^\\d','Hi, 4 is divisible by 2 and not by 3'))"
      ],
      "metadata": {
        "colab": {
          "base_uri": "https://localhost:8080/"
        },
        "id": "A3m2hvsRYGOQ",
        "outputId": "2f4f800d-1c9d-4509-bdce-c49f515dd608"
      },
      "execution_count": null,
      "outputs": [
        {
          "output_type": "stream",
          "name": "stdout",
          "text": [
            "['4']\n",
            "[]\n"
          ]
        }
      ]
    },
    {
      "cell_type": "markdown",
      "source": [
        "We can see when we did not have anything before 4 in the text we got our output 4 as it contains a digit starting of the text.\n",
        "\n",
        "When we added ‘Hi’ before 4 we can see that we got an empty list because it is not what we desired. As per our condition we needed the text to start with a digit but that is not happening so we our getting an empty list\n",
        "\n",
        "\n",
        "\n",
        "As you can see we have to add the ‘^’ symbol before the \\d."
      ],
      "metadata": {
        "id": "to-iQgvkYumf"
      }
    },
    {
      "cell_type": "markdown",
      "source": [
        "For checking ending character:"
      ],
      "metadata": {
        "id": "ja_E0hwSYw17"
      }
    },
    {
      "cell_type": "code",
      "source": [
        "print(re.findall('\\d$','4 is divisible by 2 and not by 3'))\n",
        "print(re.findall('\\d$','4 is divisible by 2 and not by 3 in maths'))"
      ],
      "metadata": {
        "colab": {
          "base_uri": "https://localhost:8080/"
        },
        "id": "GfCX3AquYSXO",
        "outputId": "ead19d99-b2d0-4c66-c7ca-4b62b8783b4f"
      },
      "execution_count": null,
      "outputs": [
        {
          "output_type": "stream",
          "name": "stdout",
          "text": [
            "['3']\n",
            "[]\n"
          ]
        }
      ]
    },
    {
      "cell_type": "markdown",
      "source": [
        "Here you can see as well when we were ending our text with a digit we were getting the output as 3 but when we added ‘in maths’ the text wasn’t ending with a digit due to which we got an empty list as output.\n",
        "\n",
        "\n",
        "\n",
        "As you can see we have to add the ‘$’ symbol after the \\d."
      ],
      "metadata": {
        "id": "3GYEWWg2ZWEW"
      }
    },
    {
      "cell_type": "markdown",
      "source": [
        "\n",
        "\n",
        "---\n",
        "\n"
      ],
      "metadata": {
        "id": "-UZInEJBZqWY"
      }
    },
    {
      "cell_type": "markdown",
      "source": [
        "Let us see now how we can use the Regular Expression to get the capital letters, small letters, numbers.\n",
        "\n",
        "We basically need to give a range of letters within the [] brackets. Let us see with the help of an example."
      ],
      "metadata": {
        "id": "XdJwO7sJZpZl"
      }
    },
    {
      "cell_type": "code",
      "source": [
        "print(f\"{re.findall('[A-Z]','Welcome to GFG 1')}\")\n",
        "print(f\"{re.findall('[a-z]','Welcome to GFG 1')}\")\n",
        "print(f\"{re.findall('[0-9]','Welcome to GFG 1')}\")\n",
        "print(f\"{re.findall('[A-Za-z]','Welcome to GFG 1')}\")\n",
        "print(f\"{re.findall('[A-Za-z0-9]','Welcome to GFG 1')}\")"
      ],
      "metadata": {
        "colab": {
          "base_uri": "https://localhost:8080/"
        },
        "id": "2_iJIEkaY5vr",
        "outputId": "186e92c8-f350-46d5-ee36-befa5397569b"
      },
      "execution_count": null,
      "outputs": [
        {
          "output_type": "stream",
          "name": "stdout",
          "text": [
            "['W', 'G', 'F', 'G']\n",
            "['e', 'l', 'c', 'o', 'm', 'e', 't', 'o']\n",
            "['1']\n",
            "['W', 'e', 'l', 'c', 'o', 'm', 'e', 't', 'o', 'G', 'F', 'G']\n",
            "['W', 'e', 'l', 'c', 'o', 'm', 'e', 't', 'o', 'G', 'F', 'G', '1']\n"
          ]
        }
      ]
    },
    {
      "cell_type": "markdown",
      "source": [
        "\n",
        "\n",
        "---\n",
        "\n"
      ],
      "metadata": {
        "id": "-Z_fKY2JdUyA"
      }
    },
    {
      "cell_type": "markdown",
      "source": [
        "# **Text Preprocessing using RE**"
      ],
      "metadata": {
        "id": "QmSe6tj2dWRT"
      }
    },
    {
      "cell_type": "markdown",
      "source": [
        "1. Removing special characters:\n",
        "If we put ^ inside the [], then it indicates that we have to exclude the characters.\n",
        "\n",
        "Let us see with an example."
      ],
      "metadata": {
        "id": "q7LjXsasdbDs"
      }
    },
    {
      "cell_type": "code",
      "source": [
        "txt = 'Eshant $ is happ@y !,'\n",
        "print(re.findall('[^!,$@]',txt))\n",
        "# we define what to remove after '^' so in this case its '!,$@'\n",
        "print(''.join(re.findall('[^!,$]',txt))) #here we didn't ask to remove '@'"
      ],
      "metadata": {
        "colab": {
          "base_uri": "https://localhost:8080/"
        },
        "id": "w-lFeZMPaCJR",
        "outputId": "c8b876eb-cc56-4675-d906-8a1cafcb61d1"
      },
      "execution_count": null,
      "outputs": [
        {
          "output_type": "stream",
          "name": "stdout",
          "text": [
            "['E', 's', 'h', 'a', 'n', 't', ' ', ' ', 'i', 's', ' ', 'h', 'a', 'p', 'p', 'y', ' ']\n",
            "Eshant  is happ@y \n"
          ]
        }
      ]
    },
    {
      "cell_type": "markdown",
      "source": [
        "---\n",
        "**2. Exclusion:**\n",
        "\n",
        "Now when we want to print only digits we use ‘\\d’ but when we want to exclude digits we  have to use the capital d that is ‘\\D’. Same goes for alphabets when\n",
        "\n",
        "\n",
        "we want to display only alphabets we use ‘\\w’ but if we want to exclude them we have to use ‘\\W’.\n",
        "\n"
      ],
      "metadata": {
        "id": "ehc3DFpSefvC"
      }
    },
    {
      "cell_type": "code",
      "source": [
        "txt = \"I'm Ashish and 24\"\n",
        "print(''.join(re.findall('\\D',txt))) #removing digits"
      ],
      "metadata": {
        "colab": {
          "base_uri": "https://localhost:8080/"
        },
        "id": "bhUccAI_eBA3",
        "outputId": "9ab5a9b6-1127-4037-d103-2017b8f1710b"
      },
      "execution_count": null,
      "outputs": [
        {
          "output_type": "stream",
          "name": "stdout",
          "text": [
            "I'm Ashish and \n"
          ]
        }
      ]
    },
    {
      "cell_type": "markdown",
      "source": [
        "So we have seen when we used \\D instead of \\d we exclude the digits and the rest of the characters have been printed."
      ],
      "metadata": {
        "id": "O9BLRODbfKJZ"
      }
    },
    {
      "cell_type": "markdown",
      "source": [
        "\n",
        "\n",
        "---\n",
        "\n"
      ],
      "metadata": {
        "id": "W8UjxgR-fLAE"
      }
    },
    {
      "cell_type": "markdown",
      "source": [
        "**3. Finding Patterns link Geeks-For-Geeks**"
      ],
      "metadata": {
        "id": "iaRLZxJqfNUo"
      }
    },
    {
      "cell_type": "code",
      "source": [
        "txt=\"Hello I am studying from Geeks-for-Geeks and it is amazing.Let's see how this works-it-out, wklfd-dfjgk-fjkds\"\n",
        "print(re.findall('\\w+-\\w+-\\w+.',txt))\n"
      ],
      "metadata": {
        "colab": {
          "base_uri": "https://localhost:8080/"
        },
        "id": "LwzzEsZwevaQ",
        "outputId": "4275aea4-613d-4fce-9a5c-04547c599dc1"
      },
      "execution_count": null,
      "outputs": [
        {
          "output_type": "stream",
          "name": "stdout",
          "text": [
            "['Geeks-for-Geeks ', 'works-it-out,', 'wklfd-dfjgk-fjkds']\n"
          ]
        }
      ]
    },
    {
      "cell_type": "markdown",
      "source": [
        "This code finds and prints all groups of three words separated by hyphens\n",
        "\n",
        "(like **word-word-word**) in the text using regular expressions."
      ],
      "metadata": {
        "id": "sZu6FYQtgxy9"
      }
    },
    {
      "cell_type": "markdown",
      "source": [
        "\n",
        "\n",
        "---\n",
        "\n"
      ],
      "metadata": {
        "id": "20JxNqWUhF02"
      }
    },
    {
      "cell_type": "markdown",
      "source": [
        "**4.Phone No. Pattern Matching**"
      ],
      "metadata": {
        "id": "-P3y2eqghGyG"
      }
    },
    {
      "cell_type": "code",
      "source": [
        "for no in [\"64-6534-342\", \"543-5345-645\",\"4563-453-445\",\"53-5453-5345\",\"435-234-6324\"]:\n",
        "\n",
        "    print(str(re.findall('[\\d]+-[\\d]+-[\\d]+.' , no)).replace('-',''))"
      ],
      "metadata": {
        "colab": {
          "base_uri": "https://localhost:8080/"
        },
        "id": "9hrQ7-J-faD5",
        "outputId": "612aa79c-078e-4a66-d6af-b78a6f699b2c"
      },
      "execution_count": null,
      "outputs": [
        {
          "output_type": "stream",
          "name": "stdout",
          "text": [
            "['646534342']\n",
            "['5435345645']\n",
            "['4563453445']\n",
            "['5354535345']\n",
            "['4352346324']\n"
          ]
        }
      ]
    },
    {
      "cell_type": "markdown",
      "source": [
        "\n",
        "\n",
        "---\n",
        "\n"
      ],
      "metadata": {
        "id": "M-dnfLgfnSMS"
      }
    },
    {
      "cell_type": "markdown",
      "source": [
        "# **Email Pattern Matching with re**"
      ],
      "metadata": {
        "id": "bsmn-qGYnTqW"
      }
    },
    {
      "cell_type": "markdown",
      "source": [
        "Let’s try now matching emails with the pattern and to verify if emails are present within the texts or not."
      ],
      "metadata": {
        "id": "Wa6o22lYnZI_"
      }
    },
    {
      "cell_type": "code",
      "source": [
        "mail = 'my email is here = deepindersinghdeep03@gmail.com pretty long right ?'\n",
        "p = '\\w+@\\w+.\\w+'\n",
        "re.search(p,mail)\n",
        "# print(re.search(p,mail))"
      ],
      "metadata": {
        "colab": {
          "base_uri": "https://localhost:8080/"
        },
        "id": "JJkU16aThKlf",
        "outputId": "44229a6e-4155-4286-a15a-2f6c879de112"
      },
      "execution_count": null,
      "outputs": [
        {
          "output_type": "execute_result",
          "data": {
            "text/plain": [
              "<re.Match object; span=(19, 49), match='deepindersinghdeep03@gmail.com'>"
            ]
          },
          "metadata": {},
          "execution_count": 66
        }
      ]
    },
    {
      "cell_type": "markdown",
      "source": [
        "\n",
        "\n",
        "---\n",
        "\n"
      ],
      "metadata": {
        "id": "Mvy1Jk-kpSDq"
      }
    },
    {
      "cell_type": "markdown",
      "source": [
        "**Email ID with Specific Domain**\n",
        "\n",
        "For this we need to write the alphabets within () brackets to indicate specific type of characters which we want."
      ],
      "metadata": {
        "id": "Z4BoVf1IpTLO"
      }
    },
    {
      "cell_type": "code",
      "source": [
        "mail = 'deepindersinghdeep03@gmail.com'\n",
        "mail2 = 'sardarioo.proton.me'\n",
        "p = '\\w+@(gmail).(com)'\n",
        "print(re.search(p,mail)) #matches because contains 'gmail.com'\n",
        "print(re.search(p,mail2)) #does not match"
      ],
      "metadata": {
        "colab": {
          "base_uri": "https://localhost:8080/"
        },
        "id": "cjHIfP8ynsHY",
        "outputId": "1d953218-f31a-4412-b58d-ec19ba86691c"
      },
      "execution_count": null,
      "outputs": [
        {
          "output_type": "stream",
          "name": "stdout",
          "text": [
            "<re.Match object; span=(0, 30), match='deepindersinghdeep03@gmail.com'>\n",
            "None\n"
          ]
        }
      ]
    },
    {
      "cell_type": "markdown",
      "source": [
        "\n",
        "\n",
        "---\n",
        "\n"
      ],
      "metadata": {
        "id": "Hhl_UI6Uqn9q"
      }
    },
    {
      "cell_type": "markdown",
      "source": [
        "**Email ID with Multiple Selected Domain**\n",
        "\n",
        "If we want to give the user multiple options we can basically just use the ‘|’ function within the () brackets. Let us see an example"
      ],
      "metadata": {
        "id": "4dIB0jKiqo3R"
      }
    },
    {
      "cell_type": "code",
      "source": [
        "mail = 'deepindersinghdeep03@gmail.com'\n",
        "mail2 = 'sardarioo@proton.me'\n",
        "p = '\\w+@(gmail|proton).(com|me)'\n",
        "\n",
        "print(re.search(p,mail))\n",
        "print(re.search(p,mail2))\n",
        "# now as you can see both match !"
      ],
      "metadata": {
        "colab": {
          "base_uri": "https://localhost:8080/"
        },
        "id": "1-ez8xzPpmpQ",
        "outputId": "5ce7c64c-79c4-40df-cf00-866376233ccd"
      },
      "execution_count": null,
      "outputs": [
        {
          "output_type": "stream",
          "name": "stdout",
          "text": [
            "<re.Match object; span=(0, 30), match='deepindersinghdeep03@gmail.com'>\n",
            "<re.Match object; span=(0, 19), match='sardarioo@proton.me'>\n"
          ]
        }
      ]
    },
    {
      "cell_type": "markdown",
      "source": [
        "\n",
        "\n",
        "---\n",
        "\n"
      ],
      "metadata": {
        "id": "1M1xht_XxqxX"
      }
    },
    {
      "cell_type": "markdown",
      "source": [
        "# **DIY Pattern Matching - Continuous Numbers**"
      ],
      "metadata": {
        "id": "mMqgWKGjxtTM"
      }
    },
    {
      "cell_type": "code",
      "source": [
        "txt = 'The number is 8372493 not 423423'\n",
        "c = 0  # Counter to track consecutive digits\n",
        "\n",
        "# Iterate through each character in the string by index\n",
        "for i in range(len(txt)):\n",
        "    # Check if the current character is a digit\n",
        "    if txt[i].isdigit() == True:\n",
        "        # If this is the first digit in a sequence, save the start index\n",
        "        if c == 0:\n",
        "            st = i  # st is the starting index of the current number\n",
        "        c += 1  # Increment the consecutive digit counter\n",
        "    else:\n",
        "        # If we were counting digits and encountered a non-digit, process the number\n",
        "        if c != 0:\n",
        "            end = i  # End index is the current position (non-digit)\n",
        "            print(txt[st:end])  # Extract and print the number\n",
        "            c = 0  # Reset counter for next potential number\n",
        "\n",
        "# After the loop, check if there's an unprocessed number at the end of the string\n",
        "if c != 0:\n",
        "    # Use negative indexing to get the last 'c' characters (the final number)\n",
        "    print(txt[-c:])"
      ],
      "metadata": {
        "colab": {
          "base_uri": "https://localhost:8080/"
        },
        "id": "5k5w0_FKq432",
        "outputId": "ccc175d9-5525-4aff-d906-bfb88a83506e"
      },
      "execution_count": null,
      "outputs": [
        {
          "output_type": "stream",
          "name": "stdout",
          "text": [
            "8372493\n",
            "423423\n"
          ]
        }
      ]
    },
    {
      "cell_type": "markdown",
      "source": [
        "\n",
        "\n",
        "---\n",
        "\n"
      ],
      "metadata": {
        "id": "TS95JnCkyFgy"
      }
    },
    {
      "cell_type": "markdown",
      "source": [
        "# **DIY Pattern Matching- Words Finding**"
      ],
      "metadata": {
        "id": "Y4nQzYClyGgp"
      }
    },
    {
      "cell_type": "code",
      "source": [
        "txt=\"Let us study Data Science from GFG.\"\n",
        "txt=txt.lower()  # Convert the string to lowercase\n",
        "word='data'  # Word to search for in the string\n",
        "\n",
        "for i in range(len(txt)):  # Loop through the string\n",
        "   if(txt[i:i+len(word)]==word):  # Check if the substring matches the word\n",
        "       print(i,i+len(word))  # Print the start and end indices of the match"
      ],
      "metadata": {
        "colab": {
          "base_uri": "https://localhost:8080/"
        },
        "id": "hdeWmCXWxG5A",
        "outputId": "8d94fa6a-711f-4948-a164-a8854c0a0b93"
      },
      "execution_count": null,
      "outputs": [
        {
          "output_type": "stream",
          "name": "stdout",
          "text": [
            "13 17\n"
          ]
        }
      ]
    },
    {
      "cell_type": "code",
      "source": [
        "para = \"In today's industries, innovation and inspiration are invaluable. Investors increasingly focus on infrastructure improvements and intelligent integrations to improve efficiency. Instead of ignoring inherent issues, individuals invest time in understanding intricate details. Initiatives aimed at inclusivity and integrity influence important decisions, ensuring impactful and inclusive growth. This interconnectedness invites interdisciplinary insights, making the entire process more interesting and insightful.\"\n",
        "word = 'in'\n",
        "for whole_word in para.split():\n",
        "  if whole_word.startswith(word) and whole_word != word:\n",
        "    print(whole_word)\n"
      ],
      "metadata": {
        "colab": {
          "base_uri": "https://localhost:8080/"
        },
        "id": "bjPfHiaDyMYm",
        "outputId": "fb8260fa-0d97-4114-96fe-826368311949"
      },
      "execution_count": null,
      "outputs": [
        {
          "output_type": "stream",
          "name": "stdout",
          "text": [
            "industries,\n",
            "innovation\n",
            "inspiration\n",
            "invaluable.\n",
            "increasingly\n",
            "infrastructure\n",
            "intelligent\n",
            "integrations\n",
            "inherent\n",
            "individuals\n",
            "invest\n",
            "intricate\n",
            "inclusivity\n",
            "integrity\n",
            "influence\n",
            "inclusive\n",
            "interconnectedness\n",
            "invites\n",
            "interdisciplinary\n",
            "insights,\n",
            "interesting\n",
            "insightful.\n"
          ]
        }
      ]
    },
    {
      "cell_type": "code",
      "source": [],
      "metadata": {
        "id": "aKwg63Ucy5YU"
      },
      "execution_count": null,
      "outputs": []
    },
    {
      "cell_type": "code",
      "source": [],
      "metadata": {
        "id": "9qOsLJ-uy6Im"
      },
      "execution_count": null,
      "outputs": []
    }
  ]
}