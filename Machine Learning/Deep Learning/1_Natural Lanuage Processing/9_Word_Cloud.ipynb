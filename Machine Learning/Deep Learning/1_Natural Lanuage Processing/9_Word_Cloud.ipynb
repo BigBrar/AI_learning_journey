{
  "nbformat": 4,
  "nbformat_minor": 0,
  "metadata": {
    "colab": {
      "provenance": []
    },
    "kernelspec": {
      "name": "python3",
      "display_name": "Python 3"
    },
    "language_info": {
      "name": "python"
    }
  },
  "cells": [
    {
      "cell_type": "code",
      "execution_count": 12,
      "metadata": {
        "colab": {
          "base_uri": "https://localhost:8080/"
        },
        "id": "IFJFQBj5am4Q",
        "outputId": "db3f62ae-37e3-4579-e584-8e8eb08d0d61"
      },
      "outputs": [
        {
          "output_type": "stream",
          "name": "stdout",
          "text": [
            "India, officially the Republic of India (Hindi: Bhārat Gaṇarājya, is a country in South Asia. It is the seventh-largest country by area, the second-most populous country, and the most populous democracy in the world. Bounded by the Indian Ocean on the south, the Arabian Sea on the southwest, and the Bay of Bengal on the southeast, it shares land borders with Pakistan to the west;[f] China, Nepal, and Bhutan to the north; and Bangladesh and Myanmar to the east. In the Indian Ocean, India is in the vicinity of Sri Lanka and the Maldives; its Andaman and Nicobar Islands share a maritime border with Thailand, Myanmar, and Indonesia.\n"
          ]
        },
        {
          "output_type": "stream",
          "name": "stderr",
          "text": [
            "[nltk_data] Downloading package punkt_tab to /root/nltk_data...\n",
            "[nltk_data]   Package punkt_tab is already up-to-date!\n",
            "[nltk_data] Downloading package stopwords to /root/nltk_data...\n",
            "[nltk_data]   Unzipping corpora/stopwords.zip.\n"
          ]
        }
      ],
      "source": [
        "from nltk.tokenize import word_tokenize, sent_tokenize\n",
        "from nltk.corpus import stopwords\n",
        "import nltk\n",
        "\n",
        "nltk.download('punkt_tab')\n",
        "nltk.download('stopwords')\n",
        "\n",
        "corpus='''India, officially the Republic of India (Hindi: Bhārat Gaṇarājya),[25] is a country in South Asia. It is the seventh-largest country by area, the second-most populous country, and the most populous democracy in the world. Bounded by the Indian Ocean on the south, the Arabian Sea on the southwest, and the Bay of Bengal on the southeast, it shares land borders with Pakistan to the west;[f] China, Nepal, and Bhutan to the north; and Bangladesh and Myanmar to the east. In the Indian Ocean, India is in the vicinity of Sri Lanka and the Maldives; its Andaman and Nicobar Islands share a maritime border with Thailand, Myanmar, and Indonesia.'''\n",
        "\n",
        "corpus = corpus.replace(\"[25]\",\"\").replace(\")\",\"\")\n",
        "print(corpus)"
      ]
    },
    {
      "cell_type": "code",
      "source": [],
      "metadata": {
        "id": "r1ZUwjCmf4-V"
      },
      "execution_count": 16,
      "outputs": []
    },
    {
      "cell_type": "markdown",
      "source": [
        "2. **Stop Words Removal**\n",
        "\n",
        "Using NLTK, we tokenize the text and filter out stop words (e.g., \"the\", \"is\") and short tokens:"
      ],
      "metadata": {
        "id": "rjZgMbNCbWSE"
      }
    },
    {
      "cell_type": "code",
      "source": [
        "words = []\n",
        "for word in word_tokenize(corpus):\n",
        "  if word.lower() not in stopwords.words('english') and (len(word) >= 2):\n",
        "    words.append(word.lower())\n",
        "\n",
        "print('Filtered words: ',words)"
      ],
      "metadata": {
        "colab": {
          "base_uri": "https://localhost:8080/"
        },
        "id": "pqehCgiha9Ao",
        "outputId": "b2983bc0-2b87-4e82-e862-a4435ee435c0"
      },
      "execution_count": 13,
      "outputs": [
        {
          "output_type": "stream",
          "name": "stdout",
          "text": [
            "Filtered words:  ['india', 'officially', 'republic', 'india', 'hindi', 'bhārat', 'gaṇarājya', 'country', 'south', 'asia', 'seventh-largest', 'country', 'area', 'second-most', 'populous', 'country', 'populous', 'democracy', 'world', 'bounded', 'indian', 'ocean', 'south', 'arabian', 'sea', 'southwest', 'bay', 'bengal', 'southeast', 'shares', 'land', 'borders', 'pakistan', 'west', 'china', 'nepal', 'bhutan', 'north', 'bangladesh', 'myanmar', 'east', 'indian', 'ocean', 'india', 'vicinity', 'sri', 'lanka', 'maldives', 'andaman', 'nicobar', 'islands', 'share', 'maritime', 'border', 'thailand', 'myanmar', 'indonesia']\n"
          ]
        }
      ]
    },
    {
      "cell_type": "markdown",
      "source": [
        "3. **Building Vocabulary**\n",
        "\n",
        "A unique vocabulary is created from the filtered words:"
      ],
      "metadata": {
        "id": "-IIjpOducEvV"
      }
    },
    {
      "cell_type": "code",
      "source": [
        "vocab = list(set(words))  # Remove duplicates using set\n",
        "print(\"Vocabulary Size:\", len(vocab))  # Output: 48\n",
        "print(\"Sample Vocabulary:\", vocab[:5])"
      ],
      "metadata": {
        "colab": {
          "base_uri": "https://localhost:8080/"
        },
        "id": "qZZPqv_Qbqmn",
        "outputId": "66146c1d-f16d-4785-d82a-3a0c2ebbaae9"
      },
      "execution_count": 14,
      "outputs": [
        {
          "output_type": "stream",
          "name": "stdout",
          "text": [
            "Vocabulary Size: 48\n",
            "Sample Vocabulary: ['populous', 'officially', 'land', 'republic', 'bhutan']\n"
          ]
        }
      ]
    },
    {
      "cell_type": "markdown",
      "source": [
        "4. **Creating Encoders and Decoders**\n",
        "\n",
        "Two dictionaries are built to map words to numbers (encoding) and numbers to words (decoding):"
      ],
      "metadata": {
        "id": "xfKuLFMocQoo"
      }
    },
    {
      "cell_type": "code",
      "source": [
        "num = 1\n",
        "word_to_num = {}\n",
        "num_to_word = {}\n",
        "\n",
        "for word in vocab:\n",
        "    word_to_num[word] = num\n",
        "    num_to_word[num] = word\n",
        "    num += 1\n",
        "\n",
        "print(\"Word-to-Number:\", word_to_num['world'])  # Output: 21\n",
        "print(\"Number-to-Word:\", num_to_word[24])       # Output: 'border'"
      ],
      "metadata": {
        "colab": {
          "base_uri": "https://localhost:8080/"
        },
        "id": "eBHCF2PwcO6I",
        "outputId": "9da50b3c-485d-43ee-ba68-bbe9e6d97092"
      },
      "execution_count": 15,
      "outputs": [
        {
          "output_type": "stream",
          "name": "stdout",
          "text": [
            "Word-to-Number: 17\n",
            "Number-to-Word: bounded\n"
          ]
        }
      ]
    },
    {
      "cell_type": "markdown",
      "source": [
        "# **Text-Encoding and Decoding**\n",
        "\n",
        "comments\n",
        "So we have already seen the basic Encoding and Decoding. Here we are mainly going to encode and decode the sentences.\n",
        "\n",
        "Let us use the sentence tokenization to print the sentences first."
      ],
      "metadata": {
        "id": "N9PCYPcZjz3y"
      }
    },
    {
      "cell_type": "code",
      "source": [
        "\n",
        "for sent in sent_tokenize(corpus):\n",
        "  print(sent)"
      ],
      "metadata": {
        "colab": {
          "base_uri": "https://localhost:8080/"
        },
        "id": "o3m1lg4HcTZn",
        "outputId": "5eff6bc2-5cab-485d-9478-9da5facbc487"
      },
      "execution_count": 19,
      "outputs": [
        {
          "output_type": "stream",
          "name": "stdout",
          "text": [
            "India, officially the Republic of India (Hindi: Bhārat Gaṇarājya, is a country in South Asia.\n",
            "It is the seventh-largest country by area, the second-most populous country, and the most populous democracy in the world.\n",
            "Bounded by the Indian Ocean on the south, the Arabian Sea on the southwest, and the Bay of Bengal on the southeast, it shares land borders with Pakistan to the west;[f] China, Nepal, and Bhutan to the north; and Bangladesh and Myanmar to the east.\n",
            "In the Indian Ocean, India is in the vicinity of Sri Lanka and the Maldives; its Andaman and Nicobar Islands share a maritime border with Thailand, Myanmar, and Indonesia.\n"
          ]
        }
      ]
    },
    {
      "cell_type": "markdown",
      "source": [
        "so to store them in a list we can use a word_tokenizer"
      ],
      "metadata": {
        "id": "jKk0if8bj6sf"
      }
    },
    {
      "cell_type": "code",
      "source": [
        "for sent in sent_tokenize(corpus):\n",
        "  print(word_tokenize(sent))"
      ],
      "metadata": {
        "colab": {
          "base_uri": "https://localhost:8080/"
        },
        "id": "LxGUlKyxji1n",
        "outputId": "455685e6-654b-47cf-a90b-3c819f1a4450"
      },
      "execution_count": 20,
      "outputs": [
        {
          "output_type": "stream",
          "name": "stdout",
          "text": [
            "['India', ',', 'officially', 'the', 'Republic', 'of', 'India', '(', 'Hindi', ':', 'Bhārat', 'Gaṇarājya', ',', 'is', 'a', 'country', 'in', 'South', 'Asia', '.']\n",
            "['It', 'is', 'the', 'seventh-largest', 'country', 'by', 'area', ',', 'the', 'second-most', 'populous', 'country', ',', 'and', 'the', 'most', 'populous', 'democracy', 'in', 'the', 'world', '.']\n",
            "['Bounded', 'by', 'the', 'Indian', 'Ocean', 'on', 'the', 'south', ',', 'the', 'Arabian', 'Sea', 'on', 'the', 'southwest', ',', 'and', 'the', 'Bay', 'of', 'Bengal', 'on', 'the', 'southeast', ',', 'it', 'shares', 'land', 'borders', 'with', 'Pakistan', 'to', 'the', 'west', ';', '[', 'f', ']', 'China', ',', 'Nepal', ',', 'and', 'Bhutan', 'to', 'the', 'north', ';', 'and', 'Bangladesh', 'and', 'Myanmar', 'to', 'the', 'east', '.']\n",
            "['In', 'the', 'Indian', 'Ocean', ',', 'India', 'is', 'in', 'the', 'vicinity', 'of', 'Sri', 'Lanka', 'and', 'the', 'Maldives', ';', 'its', 'Andaman', 'and', 'Nicobar', 'Islands', 'share', 'a', 'maritime', 'border', 'with', 'Thailand', ',', 'Myanmar', ',', 'and', 'Indonesia', '.']\n"
          ]
        }
      ]
    },
    {
      "cell_type": "markdown",
      "source": [
        "These has been printed in the form of list but we should not be using the stop words so lets remove the stop words and do it again."
      ],
      "metadata": {
        "id": "0Nm203ttkKk-"
      }
    },
    {
      "cell_type": "code",
      "source": [
        "for sent in sent_tokenize(corpus):\n",
        "  for word in word_tokenize(sent):\n",
        "    if (word.lower() not in stopwords.words('english')) and (len(word)>=2):\n",
        "      print(word,end=' ')\n",
        "  print()"
      ],
      "metadata": {
        "colab": {
          "base_uri": "https://localhost:8080/"
        },
        "id": "snUGTQ2lkFSc",
        "outputId": "88c02766-0996-427d-ce22-aad84401c0df"
      },
      "execution_count": 23,
      "outputs": [
        {
          "output_type": "stream",
          "name": "stdout",
          "text": [
            "India officially Republic India Hindi Bhārat Gaṇarājya country South Asia \n",
            "seventh-largest country area second-most populous country populous democracy world \n",
            "Bounded Indian Ocean south Arabian Sea southwest Bay Bengal southeast shares land borders Pakistan west China Nepal Bhutan north Bangladesh Myanmar east \n",
            "Indian Ocean India vicinity Sri Lanka Maldives Andaman Nicobar Islands share maritime border Thailand Myanmar Indonesia \n"
          ]
        }
      ]
    },
    {
      "cell_type": "markdown",
      "source": [
        "Now we should be writing the encoded numbers as well along with the text itself so before that first lets create our dictionaries word_to_num and num_to_word which we did previously in our last article."
      ],
      "metadata": {
        "id": "j6AXz8wJlJq9"
      }
    },
    {
      "cell_type": "code",
      "source": [
        "words=[]\n",
        "for word in word_tokenize(corpus):\n",
        "    if (word.lower() not in stopwords.words('english')) and (len(word)>=2):\n",
        "        words.append(word.lower())\n",
        "\n",
        "vocab=list(set(words))\n",
        "len(vocab)\n",
        "\n",
        "num=1\n",
        "word_to_num={}\n",
        "num_to_word={}\n",
        "for word in vocab:\n",
        "    word_to_num[word]=num\n",
        "    num_to_word[num]=word\n",
        "    num+=1"
      ],
      "metadata": {
        "id": "wrgbGby2kkCs"
      },
      "execution_count": 25,
      "outputs": []
    },
    {
      "cell_type": "markdown",
      "source": [
        "Now let us do the encoding."
      ],
      "metadata": {
        "id": "pI1MSU6rlT1h"
      }
    },
    {
      "cell_type": "code",
      "source": [
        "for sent in sent_tokenize(corpus):\n",
        "    for word in word_tokenize(sent):\n",
        "        if (word.lower() not in stopwords.words('english')) and (len(word)>=2):\n",
        "            print(word,end=' ')\n",
        "            print(word_to_num[word.lower()],end=' ')\n",
        "    print()"
      ],
      "metadata": {
        "colab": {
          "base_uri": "https://localhost:8080/"
        },
        "id": "tJSpaMbFlLTi",
        "outputId": "34b53c67-b719-4aa2-cadc-9a65574694f7"
      },
      "execution_count": 26,
      "outputs": [
        {
          "output_type": "stream",
          "name": "stdout",
          "text": [
            "India 15 officially 2 Republic 4 India 15 Hindi 28 Bhārat 25 Gaṇarājya 42 country 35 South 48 Asia 13 \n",
            "seventh-largest 9 country 35 area 16 second-most 12 populous 1 country 35 populous 1 democracy 21 world 17 \n",
            "Bounded 24 Indian 6 Ocean 38 south 48 Arabian 43 Sea 7 southwest 44 Bay 46 Bengal 45 southeast 18 shares 33 land 3 borders 26 Pakistan 29 west 47 China 14 Nepal 8 Bhutan 5 north 10 Bangladesh 27 Myanmar 37 east 31 \n",
            "Indian 6 Ocean 38 India 15 vicinity 39 Sri 40 Lanka 30 Maldives 19 Andaman 32 Nicobar 23 Islands 22 share 41 maritime 20 border 34 Thailand 11 Myanmar 37 Indonesia 36 \n"
          ]
        }
      ]
    },
    {
      "cell_type": "markdown",
      "source": [
        "Now we can see their encoded number along with the text present within it. Like india's encoded number is 39, Republic is 47."
      ],
      "metadata": {
        "id": "HeCxUapXlZGa"
      }
    },
    {
      "cell_type": "markdown",
      "source": [
        "To get the exactly encoded numbers:"
      ],
      "metadata": {
        "id": "q_bFexRulgj0"
      }
    },
    {
      "cell_type": "code",
      "source": [
        "data=[]\n",
        "for sent in sent_tokenize(corpus):\n",
        "    temp=[]\n",
        "    for word in word_tokenize(sent):\n",
        "        if (word.lower() not in stopwords.words('english')) and (len(word)>=2):\n",
        "            #print(word,end=' ')\n",
        "            temp.append(word_to_num[word.lower()])\n",
        "    print(temp)\n",
        "    data.append(temp)\n",
        "    print()"
      ],
      "metadata": {
        "colab": {
          "base_uri": "https://localhost:8080/"
        },
        "id": "ZNfK-qsLlWFJ",
        "outputId": "a6cfbe58-f0f1-4bf9-990c-758294214b19"
      },
      "execution_count": 27,
      "outputs": [
        {
          "output_type": "stream",
          "name": "stdout",
          "text": [
            "[15, 2, 4, 15, 28, 25, 42, 35, 48, 13]\n",
            "\n",
            "[9, 35, 16, 12, 1, 35, 1, 21, 17]\n",
            "\n",
            "[24, 6, 38, 48, 43, 7, 44, 46, 45, 18, 33, 3, 26, 29, 47, 14, 8, 5, 10, 27, 37, 31]\n",
            "\n",
            "[6, 38, 15, 39, 40, 30, 19, 32, 23, 22, 41, 20, 34, 11, 37, 36]\n",
            "\n"
          ]
        }
      ]
    },
    {
      "cell_type": "markdown",
      "source": [
        "This is basically the encoded format of the whole corpus. We do these encoding because our machine learning or deep learning models will not understand text as it only understands numbers.\n",
        "\n",
        ""
      ],
      "metadata": {
        "id": "HbM_nNpVlmGt"
      }
    },
    {
      "cell_type": "markdown",
      "source": [
        "\n",
        "\n",
        "---\n",
        "\n"
      ],
      "metadata": {
        "id": "npXi7_IXlmxl"
      }
    },
    {
      "cell_type": "markdown",
      "source": [
        "Now let us see how we would do the decoding. You can check we have appended the encoded data in a list. The variable data contains all the encoded data present available with us. Let us print it once to check."
      ],
      "metadata": {
        "id": "0f5JnI0LloCB"
      }
    },
    {
      "cell_type": "code",
      "source": [
        "for sent in data:\n",
        "    print(sent)"
      ],
      "metadata": {
        "colab": {
          "base_uri": "https://localhost:8080/"
        },
        "id": "Rj7zuXtxliHS",
        "outputId": "c53a5631-70e3-4a26-cc10-b7dd13bff101"
      },
      "execution_count": 28,
      "outputs": [
        {
          "output_type": "stream",
          "name": "stdout",
          "text": [
            "[15, 2, 4, 15, 28, 25, 42, 35, 48, 13]\n",
            "[9, 35, 16, 12, 1, 35, 1, 21, 17]\n",
            "[24, 6, 38, 48, 43, 7, 44, 46, 45, 18, 33, 3, 26, 29, 47, 14, 8, 5, 10, 27, 37, 31]\n",
            "[6, 38, 15, 39, 40, 30, 19, 32, 23, 22, 41, 20, 34, 11, 37, 36]\n"
          ]
        }
      ]
    },
    {
      "cell_type": "code",
      "source": [
        "# Now let do Decoding using this data variable.\n",
        "for sent in data:\n",
        "    for word in sent:\n",
        "        print(num_to_word[word],end=' ')\n",
        "    print()"
      ],
      "metadata": {
        "colab": {
          "base_uri": "https://localhost:8080/"
        },
        "id": "O3hrwlKRlsHI",
        "outputId": "347bdc39-139e-42f8-809e-1ffe32b10a26"
      },
      "execution_count": 29,
      "outputs": [
        {
          "output_type": "stream",
          "name": "stdout",
          "text": [
            "india officially republic india hindi bhārat gaṇarājya country south asia \n",
            "seventh-largest country area second-most populous country populous democracy world \n",
            "bounded indian ocean south arabian sea southwest bay bengal southeast shares land borders pakistan west china nepal bhutan north bangladesh myanmar east \n",
            "indian ocean india vicinity sri lanka maldives andaman nicobar islands share maritime border thailand myanmar indonesia \n"
          ]
        }
      ]
    },
    {
      "cell_type": "markdown",
      "source": [
        "\n",
        "\n",
        "---\n",
        "\n"
      ],
      "metadata": {
        "id": "mVb0iz5TmaK9"
      }
    },
    {
      "cell_type": "markdown",
      "source": [
        "# **Text Encoding - Decoding | Without Stop Words**"
      ],
      "metadata": {
        "id": "C_D1uRu4ma6g"
      }
    },
    {
      "cell_type": "markdown",
      "source": [
        "This time we are going to do the same Encoding and Decoding but we won't be removing the stop words. However we will still removing the punctuation marks. Let us first get started by importing the libraries and loading the corpus"
      ],
      "metadata": {
        "id": "iJWNVynPmdrw"
      }
    },
    {
      "cell_type": "code",
      "source": [
        "from nltk.tokenize import word_tokenize,sent_tokenize\n",
        "from nltk.corpus import stopwords\n",
        "\n",
        "corpus='''India, officially the Republic of India (Hindi: Bhārat Gaṇarājya),[25] is a country in South Asia. It is the seventh-largest country by area, the second-most populous country, and the most populous democracy in the world. Bounded by the Indian Ocean on the south, the Arabian Sea on the southwest, and the Bay of Bengal on the southeast, it shares land borders with Pakistan to the west;[f] China, Nepal, and Bhutan to the north; and Bangladesh and Myanmar to the east. In the Indian Ocean, India is in the vicinity of Sri Lanka and the Maldives; its Andaman and Nicobar Islands share a maritime border with Thailand, Myanmar, and Indonesia.'''\n",
        "\n",
        "corpus = corpus.replace(\"[25]\" , \"\")\n",
        "corpus = corpus.replace(\"[f]\" , \"\")\n",
        "corpus = corpus.replace(\")\" , \"\")"
      ],
      "metadata": {
        "id": "Oi47lYzQlui_"
      },
      "execution_count": 30,
      "outputs": []
    },
    {
      "cell_type": "markdown",
      "source": [
        "We can remove the punctuation marks with the help of the ASCII values. If the ASCII value doesn't fall into the range of 65 to 90 or 97 to 122 we should be removing them as they will be special characters. Let us see how we can do that with the help of python code.\n",
        "\n",
        "\n",
        "\n",
        "\n"
      ],
      "metadata": {
        "id": "DitRISgxmkv4"
      }
    },
    {
      "cell_type": "code",
      "source": [
        "words=[]\n",
        "for word in word_tokenize(corpus):\n",
        "    if(len(word)==1):\n",
        "        if((ord(word)>=97 and ord(word)<=122) or (ord(word)>=65 and ord(word)<=90)):\n",
        "            words.append(word.lower())\n",
        "    else:\n",
        "        words.append(word.lower())"
      ],
      "metadata": {
        "id": "G5pa4ujAmfGc"
      },
      "execution_count": 31,
      "outputs": []
    },
    {
      "cell_type": "markdown",
      "source": [
        "Let's create vocab and see how many words we have this time."
      ],
      "metadata": {
        "id": "5pZx1vGimn5J"
      }
    },
    {
      "cell_type": "code",
      "source": [
        "vocab=list(set(words))\n",
        "print(len(vocab))"
      ],
      "metadata": {
        "colab": {
          "base_uri": "https://localhost:8080/"
        },
        "id": "Ova8pVXZmltv",
        "outputId": "ec33abcf-5ee1-4ed8-edef-275f767797a8"
      },
      "execution_count": 32,
      "outputs": [
        {
          "output_type": "stream",
          "name": "stdout",
          "text": [
            "61\n"
          ]
        }
      ]
    },
    {
      "cell_type": "markdown",
      "source": [
        "So last time we had 48 words in our vocab but this time we have 61 so our stop words has been included the vocab. Now further most of the codes are going to be same except few parts. Let us create the word_to_num and num_to_word  dictionaries first."
      ],
      "metadata": {
        "id": "0657QcV3mvwt"
      }
    },
    {
      "cell_type": "code",
      "source": [
        "num=1\n",
        "word_to_num={}\n",
        "num_to_word={}\n",
        "for word in vocab:\n",
        "    word_to_num[word]=num\n",
        "    num_to_word[num]=word\n",
        "    num+=1"
      ],
      "metadata": {
        "id": "THdlMRqImo9C"
      },
      "execution_count": 33,
      "outputs": []
    },
    {
      "cell_type": "markdown",
      "source": [
        "**Encoding**\n",
        "\n",
        "We are going to encode in the same way which we did previously but we will change the conditions and add the ascii value conditions instead of the stop words condition."
      ],
      "metadata": {
        "id": "OKh8lmPYmyc0"
      }
    },
    {
      "cell_type": "code",
      "source": [
        "data=[]\n",
        "for sent in sent_tokenize(corpus):\n",
        "    temp=[]\n",
        "    for word in word_tokenize(sent):\n",
        "        if(len(word)==1):\n",
        "            if((ord(word)>=97 and ord(word)<=122) or (ord(word)>=65 and ord(word)<=90)):\n",
        "                temp.append(word_to_num[word.lower()])\n",
        "        else:\n",
        "            temp.append(word_to_num[word.lower()])\n",
        "    data.append(temp)\n",
        "print(data)"
      ],
      "metadata": {
        "colab": {
          "base_uri": "https://localhost:8080/"
        },
        "id": "GuB2OMbnmwsi",
        "outputId": "2cc0ca28-cc39-4d5d-960e-9bbd6749f1a9"
      },
      "execution_count": 34,
      "outputs": [
        {
          "output_type": "stream",
          "name": "stdout",
          "text": [
            "[[18, 2, 35, 4, 41, 18, 37, 29, 55, 9, 21, 46, 11, 61, 16], [60, 9, 35, 10, 46, 42, 19, 35, 15, 1, 46, 12, 35, 50, 1, 25, 11, 35, 20], [28, 42, 35, 6, 51, 30, 35, 61, 35, 56, 7, 30, 35, 57, 12, 35, 59, 41, 58, 30, 35, 22, 60, 44, 3, 31, 47, 38, 32, 35, 36, 17, 8, 12, 5, 32, 35, 13, 12, 33, 12, 49, 32, 35, 40], [11, 35, 6, 51, 18, 9, 11, 35, 52, 41, 53, 39, 12, 35, 23, 34, 43, 12, 27, 26, 54, 21, 24, 45, 47, 14, 49, 12, 48]]\n"
          ]
        }
      ]
    },
    {
      "cell_type": "markdown",
      "source": [
        "Decoding"
      ],
      "metadata": {
        "id": "0cubtp8nm4d5"
      }
    },
    {
      "cell_type": "code",
      "source": [
        "for sent in data:\n",
        "    for word in sent:\n",
        "        print(num_to_word[word],end=' ')\n",
        "    print()"
      ],
      "metadata": {
        "colab": {
          "base_uri": "https://localhost:8080/"
        },
        "id": "p4eNjv1lm06n",
        "outputId": "5ce6659e-2a2c-4c00-bdd9-7ac972379697"
      },
      "execution_count": 35,
      "outputs": [
        {
          "output_type": "stream",
          "name": "stdout",
          "text": [
            "india officially the republic of india hindi bhārat gaṇarājya is a country in south asia \n",
            "it is the seventh-largest country by area the second-most populous country and the most populous democracy in the world \n",
            "bounded by the indian ocean on the south the arabian sea on the southwest and the bay of bengal on the southeast it shares land borders with pakistan to the west china nepal and bhutan to the north and bangladesh and myanmar to the east \n",
            "in the indian ocean india is in the vicinity of sri lanka and the maldives its andaman and nicobar islands share a maritime border with thailand myanmar and indonesia \n"
          ]
        }
      ]
    },
    {
      "cell_type": "code",
      "source": [],
      "metadata": {
        "id": "X1GdkuJum22G"
      },
      "execution_count": null,
      "outputs": []
    }
  ]
}