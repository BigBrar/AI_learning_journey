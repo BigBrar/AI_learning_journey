{
  "nbformat": 4,
  "nbformat_minor": 0,
  "metadata": {
    "colab": {
      "provenance": []
    },
    "kernelspec": {
      "name": "python3",
      "display_name": "Python 3"
    },
    "language_info": {
      "name": "python"
    }
  },
  "cells": [
    {
      "cell_type": "code",
      "execution_count": 3,
      "metadata": {
        "id": "UnvJ_nRUF9ZU"
      },
      "outputs": [],
      "source": [
        "import spacy\n",
        "# import nlp\n",
        "nlp = spacy.load('en_core_web_sm')"
      ]
    },
    {
      "cell_type": "markdown",
      "source": [
        "Define entity function"
      ],
      "metadata": {
        "id": "kuWuCHUyG-HI"
      }
    },
    {
      "cell_type": "code",
      "source": [
        "doc = nlp('GFG in an Indian organisation that provides one of the finest education.')\n",
        "\n",
        "def entity_extract(doc):\n",
        "  if doc.ents:\n",
        "    for ent in doc.ents:\n",
        "      print(ent,' | ', ent.label, ' | ', spacy.explain(ent.label_))\n",
        "  else:\n",
        "    print('No entities found!')\n",
        "\n",
        "entity_extract(doc)\n"
      ],
      "metadata": {
        "colab": {
          "base_uri": "https://localhost:8080/"
        },
        "id": "IFpBS9SDG7qT",
        "outputId": "a86b461b-7ca8-4342-f360-182db32ac2ca"
      },
      "execution_count": 5,
      "outputs": [
        {
          "output_type": "stream",
          "name": "stdout",
          "text": [
            "GFG  |  383  |  Companies, agencies, institutions, etc.\n",
            "Indian  |  381  |  Nationalities or religious or political groups\n",
            "one  |  397  |  Numerals that do not fall under another type\n"
          ]
        }
      ]
    },
    {
      "cell_type": "code",
      "source": [
        "entity_extract(nlp('Im not feeling well today'))"
      ],
      "metadata": {
        "colab": {
          "base_uri": "https://localhost:8080/"
        },
        "id": "1C6_lJneHW6G",
        "outputId": "8c557309-7bca-4046-cb10-9df044f63f91"
      },
      "execution_count": 7,
      "outputs": [
        {
          "output_type": "stream",
          "name": "stdout",
          "text": [
            "today  |  391  |  Absolute or relative dates or periods\n"
          ]
        }
      ]
    },
    {
      "cell_type": "markdown",
      "source": [
        "Adding new Entity"
      ],
      "metadata": {
        "id": "CNiUZvdBIKcH"
      }
    },
    {
      "cell_type": "code",
      "source": [
        "from spacy.tokens import Span as sp\n",
        "doc = nlp(\"Tesla is one the biggest giant in the field electric vehicles\")\n",
        "\n",
        "new_entity = sp(doc, 0, 1, label = doc.vocab.strings['ORG'])\n",
        "\n",
        "\n",
        "doc.ents = list(doc.ents) + [new_entity]\n",
        "\n",
        "entity_extract(doc)"
      ],
      "metadata": {
        "id": "dt9qCrYoH-Zj"
      },
      "execution_count": 18,
      "outputs": []
    },
    {
      "cell_type": "markdown",
      "source": [
        "Adding new entities = Multiple at a time"
      ],
      "metadata": {
        "id": "auaQq7OsXpC0"
      }
    },
    {
      "cell_type": "code",
      "source": [
        "from spacy.matcher import PhraseMatcher\n",
        "doc = nlp(\"Playing Cricket and football are both good for health\")\n",
        "\n",
        "m = PhraseMatcher(nlp.vocab)\n",
        "phrase = ['Cricket', 'football']\n",
        "pattern = [nlp(text) for text in phrase]\n",
        "\n",
        "m.add('Sports',None, *pattern)\n",
        "\n",
        "\n",
        "entity_extract(doc)"
      ],
      "metadata": {
        "colab": {
          "base_uri": "https://localhost:8080/"
        },
        "id": "eKGGtyK7KWQL",
        "outputId": "f1dc205c-76cc-46cd-c436-496d996c0149"
      },
      "execution_count": 22,
      "outputs": [
        {
          "output_type": "stream",
          "name": "stdout",
          "text": [
            "No entities found!\n"
          ]
        }
      ]
    },
    {
      "cell_type": "code",
      "source": [],
      "metadata": {
        "id": "4x4FZZg1Xzb6"
      },
      "execution_count": null,
      "outputs": []
    }
  ]
}