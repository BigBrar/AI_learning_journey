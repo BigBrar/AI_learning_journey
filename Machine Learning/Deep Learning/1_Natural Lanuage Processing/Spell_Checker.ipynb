{
  "nbformat": 4,
  "nbformat_minor": 0,
  "metadata": {
    "colab": {
      "provenance": []
    },
    "kernelspec": {
      "name": "python3",
      "display_name": "Python 3"
    },
    "language_info": {
      "name": "python"
    }
  },
  "cells": [
    {
      "cell_type": "code",
      "execution_count": 24,
      "metadata": {
        "id": "2YV-1zxqeNa_"
      },
      "outputs": [],
      "source": [
        "import re\n",
        "from tqdm import tqdm\n",
        "import pandas as pd"
      ]
    },
    {
      "cell_type": "markdown",
      "source": [
        "# **Finding Unique words** -"
      ],
      "metadata": {
        "id": "4Px0IX1CfDiy"
      }
    },
    {
      "cell_type": "code",
      "source": [
        "with open('big.txt','r')as file:\n",
        "  lines = file.readlines()\n",
        "  words = []\n",
        "  for line in lines:\n",
        "    words += re.findall('\\w+',line.lower())\n",
        "\n",
        "print(len(words))\n",
        "vocab = list(set(words))\n",
        "print(len(vocab))"
      ],
      "metadata": {
        "colab": {
          "base_uri": "https://localhost:8080/"
        },
        "id": "rKCw_ONYeXNE",
        "outputId": "c12f8cf4-2eea-45ee-d9bb-12640c49a393"
      },
      "execution_count": 5,
      "outputs": [
        {
          "output_type": "stream",
          "name": "stdout",
          "text": [
            "1115585\n",
            "32198\n"
          ]
        }
      ]
    },
    {
      "cell_type": "markdown",
      "source": [
        "# 2. **Finding the probability distribution**"
      ],
      "metadata": {
        "id": "Hnzaoq1NfOAr"
      }
    },
    {
      "cell_type": "code",
      "source": [
        "word_probability = {}\n",
        "print(\"RUNNING\")\n",
        "for word in tqdm(vocab):\n",
        "\n",
        "  word_probability[word] = float(words.count(word)/len(words))\n",
        "\n",
        "print('finished!')"
      ],
      "metadata": {
        "id": "Qhme9wc8e5DT",
        "colab": {
          "base_uri": "https://localhost:8080/"
        },
        "outputId": "3eab23db-0907-47e8-a03f-f65a3230d8f1"
      },
      "execution_count": 6,
      "outputs": [
        {
          "output_type": "stream",
          "name": "stdout",
          "text": [
            "RUNNING\n"
          ]
        },
        {
          "output_type": "stream",
          "name": "stderr",
          "text": [
            "100%|██████████| 32198/32198 [11:44<00:00, 45.72it/s]"
          ]
        },
        {
          "output_type": "stream",
          "name": "stdout",
          "text": [
            "finished!\n"
          ]
        },
        {
          "output_type": "stream",
          "name": "stderr",
          "text": [
            "\n"
          ]
        }
      ]
    },
    {
      "cell_type": "code",
      "source": [
        "len(word_probability)"
      ],
      "metadata": {
        "id": "k00bwO9TffRS",
        "colab": {
          "base_uri": "https://localhost:8080/"
        },
        "outputId": "a4ad3df7-c9eb-4033-a733-7bd4f5a195dc"
      },
      "execution_count": 7,
      "outputs": [
        {
          "output_type": "execute_result",
          "data": {
            "text/plain": [
              "32198"
            ]
          },
          "metadata": {},
          "execution_count": 7
        }
      ]
    },
    {
      "cell_type": "markdown",
      "source": [
        "\n",
        "\n",
        "---\n",
        "\n"
      ],
      "metadata": {
        "id": "_-Sr1jb8eo8N"
      }
    },
    {
      "cell_type": "markdown",
      "source": [
        "# 3. **Text Preproocessing**"
      ],
      "metadata": {
        "id": "7GhHRlY0ep8A"
      }
    },
    {
      "cell_type": "markdown",
      "source": [
        "3.1) **Splitting**"
      ],
      "metadata": {
        "id": "BuKxeUYZexhE"
      }
    },
    {
      "cell_type": "markdown",
      "source": [
        "'loave' -> 'love'"
      ],
      "metadata": {
        "id": "e4nD8bC3e1l9"
      }
    },
    {
      "cell_type": "code",
      "source": [
        "def split(word):\n",
        "  parts = []\n",
        "  for i in range(len(word)+1):\n",
        "    parts+= [(word[:i], word[i:])]\n",
        "  return parts\n",
        "print(split('lvoe'))"
      ],
      "metadata": {
        "id": "anBzcWnIcf1S",
        "colab": {
          "base_uri": "https://localhost:8080/"
        },
        "outputId": "00c2f5ed-667b-462c-d77f-b266e16ac727"
      },
      "execution_count": 8,
      "outputs": [
        {
          "output_type": "stream",
          "name": "stdout",
          "text": [
            "[('', 'lvoe'), ('l', 'voe'), ('lv', 'oe'), ('lvo', 'e'), ('lvoe', '')]\n"
          ]
        }
      ]
    },
    {
      "cell_type": "markdown",
      "source": [
        "3.2 **Delete**"
      ],
      "metadata": {
        "id": "QLTJGjpLCGPO"
      }
    },
    {
      "cell_type": "code",
      "source": [
        "def delete(word):\n",
        "  output = []\n",
        "  for l,r in split(word):\n",
        "    output.append(l+r[1:])\n",
        "  return output\n",
        "print(delete('loave'))"
      ],
      "metadata": {
        "id": "SIw2px7VednN",
        "colab": {
          "base_uri": "https://localhost:8080/"
        },
        "outputId": "b9e528f3-4680-4ce7-8828-501c391261ad"
      },
      "execution_count": 9,
      "outputs": [
        {
          "output_type": "stream",
          "name": "stdout",
          "text": [
            "['oave', 'lave', 'love', 'loae', 'loav', 'loave']\n"
          ]
        }
      ]
    },
    {
      "cell_type": "markdown",
      "source": [
        "3.3 **Swap**"
      ],
      "metadata": {
        "id": "9Q2HkroeCI1j"
      }
    },
    {
      "cell_type": "code",
      "source": [
        "# lvoe\n",
        "def swap(word):\n",
        "  output = []\n",
        "  for l,r in split(word):\n",
        "    if len(r) > 1:\n",
        "      output.append(l + r[1] + r[0] + r[2:])\n",
        "\n",
        "  return output\n",
        "\n",
        "swap('lvoe')"
      ],
      "metadata": {
        "id": "MaC_g5IMojFO",
        "colab": {
          "base_uri": "https://localhost:8080/"
        },
        "outputId": "a1327542-32e1-4b0c-ef23-923efaede448"
      },
      "execution_count": 10,
      "outputs": [
        {
          "output_type": "execute_result",
          "data": {
            "text/plain": [
              "['vloe', 'love', 'lveo']"
            ]
          },
          "metadata": {},
          "execution_count": 10
        }
      ]
    },
    {
      "cell_type": "markdown",
      "source": [
        "3.4 **Replace**"
      ],
      "metadata": {
        "id": "g7HKXyrOCLDB"
      }
    },
    {
      "cell_type": "code",
      "source": [
        "characters = 'abcdefghijklmnopqrstuvwxyz'\n",
        "def replace(word):\n",
        "  output = []\n",
        "  for l,r in split(word):\n",
        "    for char in characters:\n",
        "      output.append(l + char + r[1:])\n",
        "  return output\n",
        "\n",
        "len(replace('lave')) #will try all characters on all indexes"
      ],
      "metadata": {
        "id": "oQmkoCxOrjuI",
        "colab": {
          "base_uri": "https://localhost:8080/"
        },
        "outputId": "8579d9ae-23b1-439e-ec5e-457ea5fd5d9f"
      },
      "execution_count": 11,
      "outputs": [
        {
          "output_type": "execute_result",
          "data": {
            "text/plain": [
              "130"
            ]
          },
          "metadata": {},
          "execution_count": 11
        }
      ]
    },
    {
      "cell_type": "markdown",
      "source": [
        "3.5 **Insert**"
      ],
      "metadata": {
        "id": "Q4yH90mjCNpw"
      }
    },
    {
      "cell_type": "code",
      "source": [
        "def insert(word):\n",
        "  output = []\n",
        "  for l,r in split(word):\n",
        "    for char in characters:\n",
        "      output.append(l+char+r)\n",
        "  return output\n",
        "\n",
        "response = insert('piza')\n",
        "'pizza' in response"
      ],
      "metadata": {
        "id": "9Etsw_Ykq6E6",
        "colab": {
          "base_uri": "https://localhost:8080/"
        },
        "outputId": "0a233701-0bf2-4646-c8f4-8c3632dbfec6"
      },
      "execution_count": 12,
      "outputs": [
        {
          "output_type": "execute_result",
          "data": {
            "text/plain": [
              "True"
            ]
          },
          "metadata": {},
          "execution_count": 12
        }
      ]
    },
    {
      "cell_type": "markdown",
      "source": [
        "# 4. Finding the Prediction (Level - 1)"
      ],
      "metadata": {
        "id": "mY1EHrC9CSPi"
      }
    },
    {
      "cell_type": "markdown",
      "source": [
        "4.1) **Combining Possible Words**"
      ],
      "metadata": {
        "id": "7PFKwMUDCVrE"
      }
    },
    {
      "cell_type": "code",
      "source": [
        "def edit(word):\n",
        "  return list(set(insert(word)+delete(word)+swap(word)+replace(word)))\n",
        "\n",
        "response = edit('cresh')"
      ],
      "metadata": {
        "id": "0kDDB_Iau2oW"
      },
      "execution_count": 46,
      "outputs": []
    },
    {
      "cell_type": "markdown",
      "source": [
        "4.2) **Predicting the Word**"
      ],
      "metadata": {
        "id": "n06Z0J7RCYLt"
      }
    },
    {
      "cell_type": "code",
      "source": [
        "def spell_check(word,count=5):\n",
        "  output = []\n",
        "\n",
        "  suggested_words = edit(word)\n",
        "\n",
        "  for wrd in suggested_words:\n",
        "    if wrd in word_probability.keys():\n",
        "      output.append([wrd, word_probability[wrd]])\n",
        "\n",
        "  return list(pd.DataFrame(output, columns=['word','prob']).sort_values(by='prob', ascending=False).head(count)['word'].values)\n",
        "    # print(word, word_probability[word])"
      ],
      "metadata": {
        "id": "DoYI7-Kl4frB"
      },
      "execution_count": 36,
      "outputs": []
    },
    {
      "cell_type": "code",
      "source": [
        "# pd.DataFrame(output, columns=['word','prob']).sort_values(by='prob', ascending=False)\n",
        "spell_check('loave')"
      ],
      "metadata": {
        "colab": {
          "base_uri": "https://localhost:8080/"
        },
        "id": "FTYeSDIj9eLn",
        "outputId": "3d257932-a364-4259-b9d4-fcea93aab750"
      },
      "execution_count": 49,
      "outputs": [
        {
          "output_type": "execute_result",
          "data": {
            "text/plain": [
              "['love', 'leave']"
            ]
          },
          "metadata": {},
          "execution_count": 49
        }
      ]
    },
    {
      "cell_type": "markdown",
      "source": [
        "# 5. Finding the Prediction (Level - 2)"
      ],
      "metadata": {
        "id": "i8lFd0m5Cbk7"
      }
    },
    {
      "cell_type": "markdown",
      "source": [
        "5.1) **Combining Possible Words**"
      ],
      "metadata": {
        "id": "ex-Ih3AHCefD"
      }
    },
    {
      "cell_type": "code",
      "source": [
        "def spell_check2(word, count=5):\n",
        "  output = []\n",
        "  suggested_words = edit(word)  #level one edit\n",
        "\n",
        "  for e1 in edit(word):\n",
        "    suggested_words += edit(e1) #level 2 edit\n",
        "\n",
        "  suggested_words = list(set(suggested_words))\n",
        "\n",
        "  for wrd in suggested_words:\n",
        "    if wrd in word_probability.keys():\n",
        "      output.append([wrd, word_probability[wrd]])\n",
        "\n",
        "  return list(pd.DataFrame(output, columns=['word','prob']).sort_values(by='prob', ascending=False).head(count)['word'].values)\n",
        ""
      ],
      "metadata": {
        "id": "LHu0lSfl-bSI"
      },
      "execution_count": 53,
      "outputs": []
    },
    {
      "cell_type": "code",
      "source": [
        "spell_check2('loave')"
      ],
      "metadata": {
        "colab": {
          "base_uri": "https://localhost:8080/"
        },
        "id": "Mo0ekuvcBCyH",
        "outputId": "ff9d1624-872c-499e-f805-a4f8d6a71060"
      },
      "execution_count": 54,
      "outputs": [
        {
          "output_type": "execute_result",
          "data": {
            "text/plain": [
              "['have', 'love', 'gave', 'leave', 'late']"
            ]
          },
          "metadata": {},
          "execution_count": 54
        }
      ]
    },
    {
      "cell_type": "code",
      "source": [],
      "metadata": {
        "id": "po5Q8bFuBFAX"
      },
      "execution_count": null,
      "outputs": []
    }
  ]
}